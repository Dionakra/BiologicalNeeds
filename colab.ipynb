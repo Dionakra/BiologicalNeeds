{
  "cells": [
    {
      "metadata": {
        "id": "86d4d6103c2f5ea3"
      },
      "cell_type": "markdown",
      "source": [
        "\n",
        "<h1 align=\"center\">Cell Tracking according to Biological Needs</h1>\n",
        "<h2 align=\"center\">Strong Mitosis-aware Random-finite Sets Tracker with Aleatoric Uncertainty</h2>\n",
        "\n",
        "<p align=\"center\">\n",
        "  <img alt=\"Teaser Image\" src=\"https://github.com/Dionakra/BiologicalNeeds/blob/main/assets/framework.png?raw=1\">\n",
        "  <br>\n",
        "    <em>The output distribution of EmbedTrack using different input transformations on BF-C2DL-HSC.</em>\n",
        "</p>"
      ],
      "id": "86d4d6103c2f5ea3"
    },
    {
      "metadata": {
        "id": "8cea880763233996"
      },
      "cell_type": "markdown",
      "source": [
        "# Select the Dataset you want to process"
      ],
      "id": "8cea880763233996"
    },
    {
      "metadata": {
        "ExecuteTime": {
          "end_time": "2024-09-24T08:02:49.409440Z",
          "start_time": "2024-09-24T08:02:49.405382Z"
        },
        "id": "6752a7a36491af4f"
      },
      "cell_type": "code",
      "source": [
        "# Select the dataset you want to process\n",
        "DATASET = 'DIC-C2DH-HeLa'\n",
        "SUBSET = 'train'\n",
        "SEQUENCE = '01'\n",
        "\n",
        "# Select some Inference Parameter\n",
        "SHIFTS = 50\n",
        "\n",
        "# Check if the selection is valid\n",
        "AVAILABLE_DATASETS = [\n",
        "    \"Fluo-N2DH-SIM+\",\n",
        "    \"Fluo-C2DL-MSC\",\n",
        "    \"Fluo-N2DH-GOWT1\",\n",
        "    \"PhC-C2DL-PSC\",\n",
        "    \"BF-C2DL-HSC\",\n",
        "    \"Fluo-N2DL-HeLa\",\n",
        "    \"BF-C2DL-MuSC\",\n",
        "    \"DIC-C2DH-HeLa\",\n",
        "    \"PhC-C2DH-U373\",\n",
        "]\n",
        "AVAILABLE_SUBSETS = ['train', 'challenge']\n",
        "AVAILABLE_SEQUENCES = ['01', '02']\n",
        "assert DATASET in AVAILABLE_DATASETS, f\"Invalid dataset: {DATASET}\"\n",
        "assert SUBSET in AVAILABLE_SUBSETS, f\"Invalid subset: {SUBSET}\"\n",
        "assert SEQUENCE in AVAILABLE_SEQUENCES, f\"Invalid sequence: {SEQUENCE}\""
      ],
      "id": "6752a7a36491af4f",
      "outputs": [],
      "execution_count": 1
    },
    {
      "metadata": {
        "id": "109df60057e8587b"
      },
      "cell_type": "markdown",
      "source": [
        "# Setting up the environment\n",
        "\n",
        "Creating the environment\n",
        "  - downloading the CTC data\n",
        "  - downloading the pretrained models."
      ],
      "id": "109df60057e8587b"
    },
    {
      "metadata": {
        "ExecuteTime": {
          "end_time": "2024-09-24T08:02:49.889891Z",
          "start_time": "2024-09-24T08:02:49.477830Z"
        },
        "id": "285cf3a26aa22316",
        "outputId": "36762896-0390-440e-e159-1561d4283e5c",
        "colab": {
          "base_uri": "https://localhost:8080/"
        }
      },
      "cell_type": "code",
      "source": [
        "!git clone https://github.com/Dionakra/BiologicalNeeds\n",
        "!mv BiologicalNeeds/* .\n",
        "\n",
        "# Download the data\n",
        "if SUBSET == 'train':\n",
        "    !python utils/prepare_data.py --datasets $DATASET --train\n",
        "else:\n",
        "    !python utils/prepare_data.py --datasets $DATASET --challenge"
      ],
      "id": "285cf3a26aa22316",
      "outputs": [
        {
          "output_type": "stream",
          "name": "stdout",
          "text": [
            "Cloning into 'BiologicalNeeds'...\n",
            "remote: Enumerating objects: 367, done.\u001b[K\n",
            "remote: Counting objects: 100% (367/367), done.\u001b[K\n",
            "remote: Compressing objects: 100% (181/181), done.\u001b[K\n",
            "remote: Total 367 (delta 229), reused 310 (delta 180), pack-reused 0 (from 0)\u001b[K\n",
            "Receiving objects: 100% (367/367), 1.42 MiB | 36.34 MiB/s, done.\n",
            "Resolving deltas: 100% (229/229), done.\n",
            "mv: 'BiologicalNeeds' and './BiologicalNeeds' are the same file\n",
            "python3: can't open file '/content/utils/prepare_data.py': [Errno 2] No such file or directory\n"
          ]
        }
      ],
      "execution_count": 2
    },
    {
      "metadata": {
        "ExecuteTime": {
          "end_time": "2024-09-24T08:02:59.073485Z",
          "start_time": "2024-09-24T08:02:49.891253Z"
        },
        "id": "7b32aa7e108bef7d",
        "outputId": "1b713c7e-51c3-4f1e-ffb7-8a9895bba4f1",
        "colab": {
          "base_uri": "https://localhost:8080/"
        }
      },
      "cell_type": "code",
      "source": [
        "# Download the pretrained models\n",
        "import zipfile\n",
        "\n",
        "!curl -O https://www.tnt.uni-hannover.de/de/project/MPT/data/BiologicalNeeds/models.zip\n",
        "with zipfile.ZipFile(\"models.zip\") as z:\n",
        "    z.extractall(\"\")"
      ],
      "id": "7b32aa7e108bef7d",
      "outputs": [
        {
          "output_type": "stream",
          "name": "stdout",
          "text": [
            "  % Total    % Received % Xferd  Average Speed   Time    Time     Time  Current\n",
            "                                 Dload  Upload   Total   Spent    Left  Speed\n",
            "100  236M  100  236M    0     0  15.4M      0  0:00:15  0:00:15 --:--:-- 17.6M\n"
          ]
        }
      ],
      "execution_count": 3
    },
    {
      "metadata": {
        "id": "b94005aa53a05216"
      },
      "cell_type": "markdown",
      "source": [
        "!git clone https://github.com/Dionakra/BiologicalNeeds"
      ],
      "id": "b94005aa53a05216"
    },
    {
      "cell_type": "code",
      "source": [],
      "metadata": {
        "id": "BwhDNpfsT35_",
        "outputId": "e7d2f827-d16c-4d41-bbb6-1a0590b80f9c",
        "colab": {
          "base_uri": "https://localhost:8080/"
        }
      },
      "id": "BwhDNpfsT35_",
      "execution_count": 4,
      "outputs": [
        {
          "output_type": "stream",
          "name": "stdout",
          "text": [
            "fatal: destination path 'BiologicalNeeds' already exists and is not an empty directory.\n",
            "mv: cannot move 'BiologicalNeeds/models' to './models': Directory not empty\n"
          ]
        }
      ]
    },
    {
      "metadata": {
        "id": "6c2b141cc52522da"
      },
      "cell_type": "markdown",
      "source": [
        "# Inference"
      ],
      "id": "6c2b141cc52522da"
    },
    {
      "metadata": {
        "id": "9072daedf6f85bc2"
      },
      "cell_type": "markdown",
      "source": [],
      "id": "9072daedf6f85bc2"
    },
    {
      "metadata": {
        "id": "592e45c59cc837c1"
      },
      "cell_type": "markdown",
      "source": [
        "## 1) EmbedTrack with Aleatoric Uncertainty by Advanced Test-Time Augmentation"
      ],
      "id": "592e45c59cc837c1"
    },
    {
      "metadata": {
        "ExecuteTime": {
          "end_time": "2024-09-24T08:04:00.497099Z",
          "start_time": "2024-09-24T08:04:00.377798Z"
        },
        "id": "1c62277e2e13ff56"
      },
      "cell_type": "code",
      "source": [
        "import os\n",
        "from embedtrack.scripts.inference import process\n",
        "\n",
        "res_path = os.path.join(os.getcwd(), 'results/embedtrack')\n",
        "\n",
        "process(\n",
        "    model_dir=os.path.join(os.getcwd(), 'models'),\n",
        "    res_dir=res_path,\n",
        "    shifts=[0, SHIFTS],\n",
        "    multiscale=False,\n",
        "    multi_segmentation=False,\n",
        "    batch_size=32,\n",
        "    refine_segmentation=False,\n",
        "    raw_data_paths=[os.path.join(os.getcwd(), \"Data\", \"train\")],\n",
        "    datasets=[DATASET],\n",
        "    sequences=[SEQUENCE],\n",
        ")"
      ],
      "id": "1c62277e2e13ff56",
      "outputs": [],
      "execution_count": null
    },
    {
      "metadata": {
        "id": "4c6488da24fbb407"
      },
      "cell_type": "markdown",
      "source": [
        "## 2) Multi Hypothesis Tracking"
      ],
      "id": "4c6488da24fbb407"
    },
    {
      "metadata": {
        "ExecuteTime": {
          "end_time": "2024-09-24T08:02:59.100687Z",
          "start_time": "2024-09-24T08:02:59.100591Z"
        },
        "id": "4d405b56d7a75c50"
      },
      "cell_type": "code",
      "source": [
        "from mht.scripts.inference import infer_all\n",
        "\n",
        "in_path = res_path\n",
        "res_path = os.path.join(os.getcwd(), 'results/mht')\n",
        "\n",
        "infer_all(\n",
        "    data_root=in_path,\n",
        "    dest_root=res_path,\n",
        "    subset=SUBSET,\n",
        "    dataset=DATASET,\n",
        "    sequence=SEQUENCE,\n",
        "    tracker_args={},\n",
        ")"
      ],
      "id": "4d405b56d7a75c50",
      "outputs": [],
      "execution_count": null
    },
    {
      "metadata": {
        "id": "24a24931071715a"
      },
      "cell_type": "markdown",
      "source": [
        "## 3) Interpolation to fill temporal gaps in trajectories"
      ],
      "id": "24a24931071715a"
    },
    {
      "metadata": {
        "id": "936156708b56ac7b"
      },
      "cell_type": "code",
      "source": [
        "from utils.interpolate import postprocess_all\n",
        "\n",
        "in_path = res_path\n",
        "res_path = os.path.join(os.getcwd(), 'results/interpolated')\n",
        "\n",
        "postprocess_all(\n",
        "    data_root=in_path,\n",
        "    dest_root=res_path,\n",
        "    subset=SUBSET,\n",
        "    dataset=DATASET,\n",
        "    sequence=SEQUENCE,\n",
        ")"
      ],
      "id": "936156708b56ac7b",
      "outputs": [],
      "execution_count": null
    },
    {
      "metadata": {
        "id": "71c90167ef5e8d"
      },
      "cell_type": "markdown",
      "source": [
        "## 4) Postprocessing to satisfy the CTC requirements"
      ],
      "id": "71c90167ef5e8d"
    },
    {
      "metadata": {
        "id": "fa904143fdb349b1"
      },
      "cell_type": "code",
      "source": [
        "from utils.postprocess import postprocess_all\n",
        "\n",
        "postprocess_all(\n",
        "    data_root=res_path,\n",
        "    subset=SUBSET,\n",
        "    dataset=DATASET,\n",
        "    sequence=SEQUENCE,\n",
        ")"
      ],
      "id": "fa904143fdb349b1",
      "outputs": [],
      "execution_count": null
    },
    {
      "metadata": {
        "id": "d862af3f4e6f01b8"
      },
      "cell_type": "code",
      "source": [],
      "id": "d862af3f4e6f01b8",
      "outputs": [],
      "execution_count": null
    }
  ],
  "metadata": {
    "kernelspec": {
      "display_name": "Python 3",
      "name": "python3"
    },
    "language_info": {
      "codemirror_mode": {
        "name": "ipython",
        "version": 2
      },
      "file_extension": ".py",
      "mimetype": "text/x-python",
      "name": "python",
      "nbconvert_exporter": "python",
      "pygments_lexer": "ipython2",
      "version": "2.7.6"
    },
    "colab": {
      "provenance": [],
      "gpuType": "T4"
    },
    "accelerator": "GPU"
  },
  "nbformat": 4,
  "nbformat_minor": 5
}