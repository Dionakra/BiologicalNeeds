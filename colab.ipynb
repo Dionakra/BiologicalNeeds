{
  "cells": [
    {
      "metadata": {
        "id": "86d4d6103c2f5ea3"
      },
      "cell_type": "markdown",
      "source": [
        "\n",
        "<h1 align=\"center\">Cell Tracking according to Biological Needs</h1>\n",
        "<h2 align=\"center\">Strong Mitosis-aware Random-finite Sets Tracker with Aleatoric Uncertainty</h2>\n",
        "\n",
        "<p align=\"center\">\n",
        "  <img alt=\"Teaser Image\" src=\"https://github.com/Dionakra/BiologicalNeeds/blob/main/assets/framework.png?raw=1\">\n",
        "  <br>\n",
        "    <em>The output distribution of EmbedTrack using different input transformations on BF-C2DL-HSC.</em>\n",
        "</p>"
      ],
      "id": "86d4d6103c2f5ea3"
    },
    {
      "metadata": {
        "id": "8cea880763233996"
      },
      "cell_type": "markdown",
      "source": [
        "# Select the Dataset you want to process"
      ],
      "id": "8cea880763233996"
    },
    {
      "metadata": {
        "ExecuteTime": {
          "end_time": "2024-09-24T08:02:49.409440Z",
          "start_time": "2024-09-24T08:02:49.405382Z"
        },
        "id": "6752a7a36491af4f"
      },
      "cell_type": "code",
      "source": [
        "# Select the dataset you want to process\n",
        "DATASET = 'DIC-C2DH-HeLa'\n",
        "SUBSET = 'train'\n",
        "SEQUENCE = '01'\n",
        "\n",
        "# Select some Inference Parameter\n",
        "SHIFTS = 50\n",
        "\n",
        "# Check if the selection is valid\n",
        "AVAILABLE_DATASETS = [\n",
        "    \"Fluo-N2DH-SIM+\",\n",
        "    \"Fluo-C2DL-MSC\",\n",
        "    \"Fluo-N2DH-GOWT1\",\n",
        "    \"PhC-C2DL-PSC\",\n",
        "    \"BF-C2DL-HSC\",\n",
        "    \"Fluo-N2DL-HeLa\",\n",
        "    \"BF-C2DL-MuSC\",\n",
        "    \"DIC-C2DH-HeLa\",\n",
        "    \"PhC-C2DH-U373\",\n",
        "]\n",
        "AVAILABLE_SUBSETS = ['train', 'challenge']\n",
        "AVAILABLE_SEQUENCES = ['01', '02']\n",
        "assert DATASET in AVAILABLE_DATASETS, f\"Invalid dataset: {DATASET}\"\n",
        "assert SUBSET in AVAILABLE_SUBSETS, f\"Invalid subset: {SUBSET}\"\n",
        "assert SEQUENCE in AVAILABLE_SEQUENCES, f\"Invalid sequence: {SEQUENCE}\""
      ],
      "id": "6752a7a36491af4f",
      "outputs": [],
      "execution_count": 10
    },
    {
      "metadata": {
        "id": "109df60057e8587b"
      },
      "cell_type": "markdown",
      "source": [
        "# Setting up the environment\n",
        "\n",
        "Creating the environment\n",
        "  - downloading the CTC data\n",
        "  - downloading the pretrained models."
      ],
      "id": "109df60057e8587b"
    },
    {
      "metadata": {
        "ExecuteTime": {
          "end_time": "2024-09-24T08:02:49.889891Z",
          "start_time": "2024-09-24T08:02:49.477830Z"
        },
        "id": "285cf3a26aa22316",
        "outputId": "01fd2431-0931-44ae-fa22-0cdc92fb3efd",
        "colab": {
          "base_uri": "https://localhost:8080/"
        }
      },
      "cell_type": "code",
      "source": [
        "!git clone https://github.com/Dionakra/BiologicalNeeds\n",
        "!mv BiologicalNeeds/* .\n",
        "\n",
        "# Download the data\n",
        "if SUBSET == 'train':\n",
        "    !python utils/prepare_data.py --datasets $DATASET --train\n",
        "else:\n",
        "    !python utils/prepare_data.py --datasets $DATASET --challenge"
      ],
      "id": "285cf3a26aa22316",
      "outputs": [
        {
          "output_type": "stream",
          "name": "stdout",
          "text": [
            "fatal: destination path 'BiologicalNeeds' already exists and is not an empty directory.\n",
            "mv: cannot move 'BiologicalNeeds/models' to './models': Directory not empty\n",
            "Downloading data set DIC-C2DH-HeLa ...\n"
          ]
        }
      ],
      "execution_count": 11
    },
    {
      "metadata": {
        "ExecuteTime": {
          "end_time": "2024-09-24T08:02:59.073485Z",
          "start_time": "2024-09-24T08:02:49.891253Z"
        },
        "id": "7b32aa7e108bef7d",
        "outputId": "0afd3570-2618-44f8-e78c-7dba69df0688",
        "colab": {
          "base_uri": "https://localhost:8080/"
        }
      },
      "cell_type": "code",
      "source": [
        "# Download the pretrained models\n",
        "import zipfile\n",
        "\n",
        "!curl -O https://www.tnt.uni-hannover.de/de/project/MPT/data/BiologicalNeeds/models.zip\n",
        "with zipfile.ZipFile(\"models.zip\") as z:\n",
        "    z.extractall(\"\")"
      ],
      "id": "7b32aa7e108bef7d",
      "outputs": [
        {
          "output_type": "stream",
          "name": "stdout",
          "text": [
            "  % Total    % Received % Xferd  Average Speed   Time    Time     Time  Current\n",
            "                                 Dload  Upload   Total   Spent    Left  Speed\n",
            "100  236M  100  236M    0     0  10.4M      0  0:00:22  0:00:22 --:--:-- 11.5M\n"
          ]
        }
      ],
      "execution_count": 12
    },
    {
      "metadata": {
        "id": "b94005aa53a05216"
      },
      "cell_type": "markdown",
      "source": [
        "!git clone https://github.com/Dionakra/BiologicalNeeds"
      ],
      "id": "b94005aa53a05216"
    },
    {
      "cell_type": "code",
      "source": [
        "!pip install torch --quiet\n",
        "!pip install torchvision --quiet\n",
        "!pip install imagecodecs --quiet\n",
        "!pip install torchmetrics --quiet"
      ],
      "metadata": {
        "colab": {
          "base_uri": "https://localhost:8080/"
        },
        "id": "BwhDNpfsT35_",
        "outputId": "55405ada-319b-4e30-f062-6303f9675a1d"
      },
      "id": "BwhDNpfsT35_",
      "execution_count": 9,
      "outputs": [
        {
          "output_type": "stream",
          "name": "stdout",
          "text": [
            "Collecting torchmetrics\n",
            "  Downloading torchmetrics-1.7.3-py3-none-any.whl.metadata (21 kB)\n",
            "Requirement already satisfied: numpy>1.20.0 in /usr/local/lib/python3.11/dist-packages (from torchmetrics) (2.0.2)\n",
            "Requirement already satisfied: packaging>17.1 in /usr/local/lib/python3.11/dist-packages (from torchmetrics) (24.2)\n",
            "Requirement already satisfied: torch>=2.0.0 in /usr/local/lib/python3.11/dist-packages (from torchmetrics) (2.6.0+cu124)\n",
            "Collecting lightning-utilities>=0.8.0 (from torchmetrics)\n",
            "  Downloading lightning_utilities-0.14.3-py3-none-any.whl.metadata (5.6 kB)\n",
            "Requirement already satisfied: setuptools in /usr/local/lib/python3.11/dist-packages (from lightning-utilities>=0.8.0->torchmetrics) (75.2.0)\n",
            "Requirement already satisfied: typing_extensions in /usr/local/lib/python3.11/dist-packages (from lightning-utilities>=0.8.0->torchmetrics) (4.14.0)\n",
            "Requirement already satisfied: filelock in /usr/local/lib/python3.11/dist-packages (from torch>=2.0.0->torchmetrics) (3.18.0)\n",
            "Requirement already satisfied: networkx in /usr/local/lib/python3.11/dist-packages (from torch>=2.0.0->torchmetrics) (3.5)\n",
            "Requirement already satisfied: jinja2 in /usr/local/lib/python3.11/dist-packages (from torch>=2.0.0->torchmetrics) (3.1.6)\n",
            "Requirement already satisfied: fsspec in /usr/local/lib/python3.11/dist-packages (from torch>=2.0.0->torchmetrics) (2025.3.2)\n",
            "Requirement already satisfied: nvidia-cuda-nvrtc-cu12==12.4.127 in /usr/local/lib/python3.11/dist-packages (from torch>=2.0.0->torchmetrics) (12.4.127)\n",
            "Requirement already satisfied: nvidia-cuda-runtime-cu12==12.4.127 in /usr/local/lib/python3.11/dist-packages (from torch>=2.0.0->torchmetrics) (12.4.127)\n",
            "Requirement already satisfied: nvidia-cuda-cupti-cu12==12.4.127 in /usr/local/lib/python3.11/dist-packages (from torch>=2.0.0->torchmetrics) (12.4.127)\n",
            "Requirement already satisfied: nvidia-cudnn-cu12==9.1.0.70 in /usr/local/lib/python3.11/dist-packages (from torch>=2.0.0->torchmetrics) (9.1.0.70)\n",
            "Requirement already satisfied: nvidia-cublas-cu12==12.4.5.8 in /usr/local/lib/python3.11/dist-packages (from torch>=2.0.0->torchmetrics) (12.4.5.8)\n",
            "Requirement already satisfied: nvidia-cufft-cu12==11.2.1.3 in /usr/local/lib/python3.11/dist-packages (from torch>=2.0.0->torchmetrics) (11.2.1.3)\n",
            "Requirement already satisfied: nvidia-curand-cu12==10.3.5.147 in /usr/local/lib/python3.11/dist-packages (from torch>=2.0.0->torchmetrics) (10.3.5.147)\n",
            "Requirement already satisfied: nvidia-cusolver-cu12==11.6.1.9 in /usr/local/lib/python3.11/dist-packages (from torch>=2.0.0->torchmetrics) (11.6.1.9)\n",
            "Requirement already satisfied: nvidia-cusparse-cu12==12.3.1.170 in /usr/local/lib/python3.11/dist-packages (from torch>=2.0.0->torchmetrics) (12.3.1.170)\n",
            "Requirement already satisfied: nvidia-cusparselt-cu12==0.6.2 in /usr/local/lib/python3.11/dist-packages (from torch>=2.0.0->torchmetrics) (0.6.2)\n",
            "Requirement already satisfied: nvidia-nccl-cu12==2.21.5 in /usr/local/lib/python3.11/dist-packages (from torch>=2.0.0->torchmetrics) (2.21.5)\n",
            "Requirement already satisfied: nvidia-nvtx-cu12==12.4.127 in /usr/local/lib/python3.11/dist-packages (from torch>=2.0.0->torchmetrics) (12.4.127)\n",
            "Requirement already satisfied: nvidia-nvjitlink-cu12==12.4.127 in /usr/local/lib/python3.11/dist-packages (from torch>=2.0.0->torchmetrics) (12.4.127)\n",
            "Requirement already satisfied: triton==3.2.0 in /usr/local/lib/python3.11/dist-packages (from torch>=2.0.0->torchmetrics) (3.2.0)\n",
            "Requirement already satisfied: sympy==1.13.1 in /usr/local/lib/python3.11/dist-packages (from torch>=2.0.0->torchmetrics) (1.13.1)\n",
            "Requirement already satisfied: mpmath<1.4,>=1.1.0 in /usr/local/lib/python3.11/dist-packages (from sympy==1.13.1->torch>=2.0.0->torchmetrics) (1.3.0)\n",
            "Requirement already satisfied: MarkupSafe>=2.0 in /usr/local/lib/python3.11/dist-packages (from jinja2->torch>=2.0.0->torchmetrics) (3.0.2)\n",
            "Downloading torchmetrics-1.7.3-py3-none-any.whl (962 kB)\n",
            "\u001b[2K   \u001b[90m━━━━━━━━━━━━━━━━━━━━━━━━━━━━━━━━━━━━━━━━\u001b[0m \u001b[32m962.6/962.6 kB\u001b[0m \u001b[31m51.0 MB/s\u001b[0m eta \u001b[36m0:00:00\u001b[0m\n",
            "\u001b[?25hDownloading lightning_utilities-0.14.3-py3-none-any.whl (28 kB)\n",
            "Installing collected packages: lightning-utilities, torchmetrics\n",
            "Successfully installed lightning-utilities-0.14.3 torchmetrics-1.7.3\n"
          ]
        }
      ]
    },
    {
      "metadata": {
        "id": "6c2b141cc52522da"
      },
      "cell_type": "markdown",
      "source": [
        "# Inference"
      ],
      "id": "6c2b141cc52522da"
    },
    {
      "metadata": {
        "id": "9072daedf6f85bc2"
      },
      "cell_type": "markdown",
      "source": [],
      "id": "9072daedf6f85bc2"
    },
    {
      "cell_type": "code",
      "source": [
        "!rm -rf Data/train/DIC-C2DH-HeLa/*\n",
        "!mkdir Data/train/DIC-C2DH-HeLa/01"
      ],
      "metadata": {
        "id": "eq65w6c-Y9D2"
      },
      "id": "eq65w6c-Y9D2",
      "execution_count": 14,
      "outputs": []
    },
    {
      "metadata": {
        "id": "592e45c59cc837c1"
      },
      "cell_type": "markdown",
      "source": [
        "## 1) EmbedTrack with Aleatoric Uncertainty by Advanced Test-Time Augmentation"
      ],
      "id": "592e45c59cc837c1"
    },
    {
      "metadata": {
        "ExecuteTime": {
          "end_time": "2024-09-24T08:04:00.497099Z",
          "start_time": "2024-09-24T08:04:00.377798Z"
        },
        "id": "1c62277e2e13ff56",
        "colab": {
          "base_uri": "https://localhost:8080/",
          "height": 542
        },
        "outputId": "c054103d-ed94-4c61-e5c0-c6e1c08497cc"
      },
      "cell_type": "code",
      "source": [
        "import os\n",
        "from embedtrack.scripts.inference import process\n",
        "\n",
        "res_path = os.path.join(os.getcwd(), 'results/embedtrack')\n",
        "\n",
        "process(\n",
        "    model_dir=os.path.join(os.getcwd(), 'models'),\n",
        "    res_dir=res_path,\n",
        "    shifts=[0, SHIFTS],\n",
        "    multiscale=False,\n",
        "    multi_segmentation=False,\n",
        "    batch_size=32,\n",
        "    refine_segmentation=False,\n",
        "    raw_data_paths=[os.path.join(os.getcwd(), \"Data\", \"train\")],\n",
        "    datasets=[DATASET],\n",
        "    sequences=[SEQUENCE],\n",
        ")"
      ],
      "id": "1c62277e2e13ff56",
      "outputs": [
        {
          "output_type": "error",
          "ename": "ModuleNotFoundError",
          "evalue": "No module named 'torchmetrics'",
          "traceback": [
            "\u001b[0;31m---------------------------------------------------------------------------\u001b[0m",
            "\u001b[0;31mModuleNotFoundError\u001b[0m                       Traceback (most recent call last)",
            "\u001b[0;32m/tmp/ipython-input-8-1969809856.py\u001b[0m in \u001b[0;36m<cell line: 0>\u001b[0;34m()\u001b[0m\n\u001b[1;32m      1\u001b[0m \u001b[0;32mimport\u001b[0m \u001b[0mos\u001b[0m\u001b[0;34m\u001b[0m\u001b[0;34m\u001b[0m\u001b[0m\n\u001b[0;32m----> 2\u001b[0;31m \u001b[0;32mfrom\u001b[0m \u001b[0membedtrack\u001b[0m\u001b[0;34m.\u001b[0m\u001b[0mscripts\u001b[0m\u001b[0;34m.\u001b[0m\u001b[0minference\u001b[0m \u001b[0;32mimport\u001b[0m \u001b[0mprocess\u001b[0m\u001b[0;34m\u001b[0m\u001b[0;34m\u001b[0m\u001b[0m\n\u001b[0m\u001b[1;32m      3\u001b[0m \u001b[0;34m\u001b[0m\u001b[0m\n\u001b[1;32m      4\u001b[0m \u001b[0mres_path\u001b[0m \u001b[0;34m=\u001b[0m \u001b[0mos\u001b[0m\u001b[0;34m.\u001b[0m\u001b[0mpath\u001b[0m\u001b[0;34m.\u001b[0m\u001b[0mjoin\u001b[0m\u001b[0;34m(\u001b[0m\u001b[0mos\u001b[0m\u001b[0;34m.\u001b[0m\u001b[0mgetcwd\u001b[0m\u001b[0;34m(\u001b[0m\u001b[0;34m)\u001b[0m\u001b[0;34m,\u001b[0m \u001b[0;34m'results/embedtrack'\u001b[0m\u001b[0;34m)\u001b[0m\u001b[0;34m\u001b[0m\u001b[0;34m\u001b[0m\u001b[0m\n\u001b[1;32m      5\u001b[0m \u001b[0;34m\u001b[0m\u001b[0m\n",
            "\u001b[0;32m/content/embedtrack/scripts/inference.py\u001b[0m in \u001b[0;36m<module>\u001b[0;34m\u001b[0m\n\u001b[1;32m      6\u001b[0m \u001b[0;32mimport\u001b[0m \u001b[0margparse\u001b[0m\u001b[0;34m\u001b[0m\u001b[0;34m\u001b[0m\u001b[0m\n\u001b[1;32m      7\u001b[0m \u001b[0;34m\u001b[0m\u001b[0m\n\u001b[0;32m----> 8\u001b[0;31m \u001b[0;32mfrom\u001b[0m \u001b[0membedtrack\u001b[0m\u001b[0;34m.\u001b[0m\u001b[0minfer\u001b[0m\u001b[0;34m.\u001b[0m\u001b[0minfer_ctc_data\u001b[0m \u001b[0;32mimport\u001b[0m \u001b[0minference\u001b[0m\u001b[0;34m\u001b[0m\u001b[0;34m\u001b[0m\u001b[0m\n\u001b[0m\u001b[1;32m      9\u001b[0m \u001b[0;34m\u001b[0m\u001b[0m\n\u001b[1;32m     10\u001b[0m \u001b[0;34m\u001b[0m\u001b[0m\n",
            "\u001b[0;32m/content/embedtrack/infer/infer_ctc_data.py\u001b[0m in \u001b[0;36m<module>\u001b[0;34m\u001b[0m\n\u001b[1;32m     11\u001b[0m \u001b[0;34m\u001b[0m\u001b[0m\n\u001b[1;32m     12\u001b[0m \u001b[0;32mimport\u001b[0m \u001b[0mnumpy\u001b[0m \u001b[0;32mas\u001b[0m \u001b[0mnp\u001b[0m\u001b[0;34m\u001b[0m\u001b[0;34m\u001b[0m\u001b[0m\n\u001b[0;32m---> 13\u001b[0;31m from embedtrack.infer.inference import (\n\u001b[0m\u001b[1;32m     14\u001b[0m     \u001b[0mextend_grid\u001b[0m\u001b[0;34m,\u001b[0m\u001b[0;34m\u001b[0m\u001b[0;34m\u001b[0m\u001b[0m\n\u001b[1;32m     15\u001b[0m     \u001b[0minfer_sequence\u001b[0m\u001b[0;34m,\u001b[0m\u001b[0;34m\u001b[0m\u001b[0;34m\u001b[0m\u001b[0m\n",
            "\u001b[0;32m/content/embedtrack/infer/inference.py\u001b[0m in \u001b[0;36m<module>\u001b[0;34m\u001b[0m\n\u001b[1;32m     13\u001b[0m \u001b[0;32mfrom\u001b[0m \u001b[0mitertools\u001b[0m \u001b[0;32mimport\u001b[0m \u001b[0mproduct\u001b[0m\u001b[0;34m\u001b[0m\u001b[0;34m\u001b[0m\u001b[0m\n\u001b[1;32m     14\u001b[0m \u001b[0;32mfrom\u001b[0m \u001b[0membedtrack\u001b[0m\u001b[0;34m.\u001b[0m\u001b[0mutils\u001b[0m\u001b[0;34m.\u001b[0m\u001b[0mutils\u001b[0m \u001b[0;32mimport\u001b[0m \u001b[0mget_img_files\u001b[0m\u001b[0;34m\u001b[0m\u001b[0;34m\u001b[0m\u001b[0m\n\u001b[0;32m---> 15\u001b[0;31m \u001b[0;32mimport\u001b[0m \u001b[0membedtrack\u001b[0m\u001b[0;34m.\u001b[0m\u001b[0minfer\u001b[0m\u001b[0;34m.\u001b[0m\u001b[0mutils\u001b[0m \u001b[0;32mas\u001b[0m \u001b[0minfer_utils\u001b[0m\u001b[0;34m\u001b[0m\u001b[0;34m\u001b[0m\u001b[0m\n\u001b[0m\u001b[1;32m     16\u001b[0m \u001b[0;32mimport\u001b[0m \u001b[0mnumpy\u001b[0m \u001b[0;32mas\u001b[0m \u001b[0mnp\u001b[0m\u001b[0;34m\u001b[0m\u001b[0;34m\u001b[0m\u001b[0m\n\u001b[1;32m     17\u001b[0m \u001b[0;32mimport\u001b[0m \u001b[0mpandas\u001b[0m \u001b[0;32mas\u001b[0m \u001b[0mpd\u001b[0m\u001b[0;34m\u001b[0m\u001b[0;34m\u001b[0m\u001b[0m\n",
            "\u001b[0;32m/content/embedtrack/infer/utils.py\u001b[0m in \u001b[0;36m<module>\u001b[0;34m\u001b[0m\n\u001b[1;32m      6\u001b[0m \u001b[0;32mimport\u001b[0m \u001b[0mcv2\u001b[0m\u001b[0;34m\u001b[0m\u001b[0;34m\u001b[0m\u001b[0m\n\u001b[1;32m      7\u001b[0m \u001b[0;32mimport\u001b[0m \u001b[0mio\u001b[0m\u001b[0;34m\u001b[0m\u001b[0;34m\u001b[0m\u001b[0m\n\u001b[0;32m----> 8\u001b[0;31m \u001b[0;32mfrom\u001b[0m \u001b[0mtorchmetrics\u001b[0m \u001b[0;32mimport\u001b[0m \u001b[0mConfusionMatrix\u001b[0m\u001b[0;34m\u001b[0m\u001b[0;34m\u001b[0m\u001b[0m\n\u001b[0m\u001b[1;32m      9\u001b[0m torch.set_printoptions(precision=2, sci_mode=False, linewidth=1000,\n\u001b[1;32m     10\u001b[0m                        edgeitems=100)\n",
            "\u001b[0;31mModuleNotFoundError\u001b[0m: No module named 'torchmetrics'",
            "",
            "\u001b[0;31m---------------------------------------------------------------------------\u001b[0;32m\nNOTE: If your import is failing due to a missing package, you can\nmanually install dependencies using either !pip or !apt.\n\nTo view examples of installing some common dependencies, click the\n\"Open Examples\" button below.\n\u001b[0;31m---------------------------------------------------------------------------\u001b[0m\n"
          ],
          "errorDetails": {
            "actions": [
              {
                "action": "open_url",
                "actionText": "Open Examples",
                "url": "/notebooks/snippets/importing_libraries.ipynb"
              }
            ]
          }
        }
      ],
      "execution_count": 8
    },
    {
      "metadata": {
        "id": "4c6488da24fbb407"
      },
      "cell_type": "markdown",
      "source": [
        "## 2) Multi Hypothesis Tracking"
      ],
      "id": "4c6488da24fbb407"
    },
    {
      "metadata": {
        "ExecuteTime": {
          "end_time": "2024-09-24T08:02:59.100687Z",
          "start_time": "2024-09-24T08:02:59.100591Z"
        },
        "id": "4d405b56d7a75c50"
      },
      "cell_type": "code",
      "source": [
        "from mht.scripts.inference import infer_all\n",
        "\n",
        "in_path = res_path\n",
        "res_path = os.path.join(os.getcwd(), 'results/mht')\n",
        "\n",
        "infer_all(\n",
        "    data_root=in_path,\n",
        "    dest_root=res_path,\n",
        "    subset=SUBSET,\n",
        "    dataset=DATASET,\n",
        "    sequence=SEQUENCE,\n",
        "    tracker_args={},\n",
        ")"
      ],
      "id": "4d405b56d7a75c50",
      "outputs": [],
      "execution_count": null
    },
    {
      "metadata": {
        "id": "24a24931071715a"
      },
      "cell_type": "markdown",
      "source": [
        "## 3) Interpolation to fill temporal gaps in trajectories"
      ],
      "id": "24a24931071715a"
    },
    {
      "metadata": {
        "id": "936156708b56ac7b"
      },
      "cell_type": "code",
      "source": [
        "from utils.interpolate import postprocess_all\n",
        "\n",
        "in_path = res_path\n",
        "res_path = os.path.join(os.getcwd(), 'results/interpolated')\n",
        "\n",
        "postprocess_all(\n",
        "    data_root=in_path,\n",
        "    dest_root=res_path,\n",
        "    subset=SUBSET,\n",
        "    dataset=DATASET,\n",
        "    sequence=SEQUENCE,\n",
        ")"
      ],
      "id": "936156708b56ac7b",
      "outputs": [],
      "execution_count": null
    },
    {
      "metadata": {
        "id": "71c90167ef5e8d"
      },
      "cell_type": "markdown",
      "source": [
        "## 4) Postprocessing to satisfy the CTC requirements"
      ],
      "id": "71c90167ef5e8d"
    },
    {
      "metadata": {
        "id": "fa904143fdb349b1"
      },
      "cell_type": "code",
      "source": [
        "from utils.postprocess import postprocess_all\n",
        "\n",
        "postprocess_all(\n",
        "    data_root=res_path,\n",
        "    subset=SUBSET,\n",
        "    dataset=DATASET,\n",
        "    sequence=SEQUENCE,\n",
        ")"
      ],
      "id": "fa904143fdb349b1",
      "outputs": [],
      "execution_count": null
    },
    {
      "metadata": {
        "id": "d862af3f4e6f01b8"
      },
      "cell_type": "code",
      "source": [],
      "id": "d862af3f4e6f01b8",
      "outputs": [],
      "execution_count": null
    }
  ],
  "metadata": {
    "kernelspec": {
      "display_name": "Python 3",
      "name": "python3"
    },
    "language_info": {
      "codemirror_mode": {
        "name": "ipython",
        "version": 2
      },
      "file_extension": ".py",
      "mimetype": "text/x-python",
      "name": "python",
      "nbconvert_exporter": "python",
      "pygments_lexer": "ipython2",
      "version": "2.7.6"
    },
    "colab": {
      "provenance": [],
      "gpuType": "T4"
    },
    "accelerator": "GPU"
  },
  "nbformat": 4,
  "nbformat_minor": 5
}