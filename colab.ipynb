{
 "cells": [
  {
   "metadata": {},
   "cell_type": "markdown",
   "source": [
    "\n",
    "<h1 align=\"center\">Cell Tracking according to Biological Needs</h1>\n",
    "<h2 align=\"center\">Strong Mitosis-aware Random-finite Sets Tracker with Aleatoric Uncertainty</h2>\n",
    "\n",
    "<p align=\"center\">\n",
    "  <img alt=\"Teaser Image\" src=\"./assets/teaser.png\">\n",
    "  <br>\n",
    "    <em>The output distribution of EmbedTrack using different input transformations on BF-C2DL-HSC.</em>\n",
    "</p>"
   ],
   "id": "86d4d6103c2f5ea3"
  },
  {
   "metadata": {},
   "cell_type": "markdown",
   "source": "# Select the Dataset you want to process",
   "id": "8cea880763233996"
  },
  {
   "metadata": {
    "ExecuteTime": {
     "end_time": "2024-05-08T15:31:30.179522Z",
     "start_time": "2024-05-08T15:31:30.174699Z"
    }
   },
   "cell_type": "code",
   "source": [
    "# Select the dataset you want to process\n",
    "DATASET = 'DIC-C2DH-HeLa'\n",
    "SUBSET = 'train'\n",
    "SEQUENCE = '01'\n",
    "\n",
    "# Select some Inference Parameter\n",
    "SHIFTS = 50\n",
    "MULTISCALE = False\n",
    "MULTI_SEGMENTATION = False\n",
    "\n",
    "# Check if the selection is valid\n",
    "AVAILABLE_DATASETS = [\n",
    "    \"Fluo-N2DH-SIM+\",\n",
    "    \"Fluo-C2DL-MSC\",\n",
    "    \"Fluo-N2DH-GOWT1\",\n",
    "    \"PhC-C2DL-PSC\",\n",
    "    \"BF-C2DL-HSC\",\n",
    "    \"Fluo-N2DL-HeLa\",\n",
    "    \"BF-C2DL-MuSC\",\n",
    "    \"DIC-C2DH-HeLa\",\n",
    "    \"PhC-C2DH-U373\",\n",
    "]\n",
    "AVAILABLE_SUBSETS = ['train', 'challenge']\n",
    "AVAILABLE_SEQUENCES = ['01', '02']\n",
    "assert DATASET in AVAILABLE_DATASETS, f\"Invalid dataset: {DATASET}\"\n",
    "assert SUBSET in AVAILABLE_SUBSETS, f\"Invalid subset: {SUBSET}\"\n",
    "assert SEQUENCE in AVAILABLE_SEQUENCES, f\"Invalid sequence: {SEQUENCE}\""
   ],
   "id": "6752a7a36491af4f",
   "outputs": [],
   "execution_count": 1
  },
  {
   "metadata": {},
   "cell_type": "markdown",
   "source": [
    "# Setting up the environment\n",
    "\n",
    "Creating the environment\n",
    "  - downloading the CTC data\n",
    "  - downloading the pretrained models. "
   ],
   "id": "109df60057e8587b"
  },
  {
   "metadata": {
    "ExecuteTime": {
     "end_time": "2024-05-08T15:31:30.408524Z",
     "start_time": "2024-05-08T15:31:30.180664Z"
    }
   },
   "cell_type": "code",
   "source": [
    "# Download the data\n",
    "if SUBSET == 'train':\n",
    "    !python utils/prepare_data.py --datasets $DATASET --train\n",
    "else:\n",
    "    !python utils/prepare_data.py --datasets $DATASET --challenge"
   ],
   "id": "285cf3a26aa22316",
   "outputs": [
    {
     "name": "stdout",
     "output_type": "stream",
     "text": [
      "Downloading data set DIC-C2DH-HeLa ...\r\n"
     ]
    }
   ],
   "execution_count": 2
  },
  {
   "metadata": {
    "ExecuteTime": {
     "end_time": "2024-05-08T15:31:33.806002Z",
     "start_time": "2024-05-08T15:31:30.414004Z"
    }
   },
   "cell_type": "code",
   "source": [
    "# Download the pretrained models\n",
    "import zipfile\n",
    "\n",
    "!wget https://www.tnt.uni-hannover.de/de/project/MPT/data/BiologicalNeeds/models.zip\n",
    "with zipfile.ZipFile(\"models.zip\") as z:\n",
    "    z.extractall(\"\")"
   ],
   "id": "7b32aa7e108bef7d",
   "outputs": [
    {
     "name": "stdout",
     "output_type": "stream",
     "text": [
      "--2024-05-08 17:31:30--  https://www.tnt.uni-hannover.de/de/project/MPT/data/BiologicalNeeds/models.zip\r\n",
      "Resolving www.tnt.uni-hannover.de (www.tnt.uni-hannover.de)... 130.75.31.71\r\n",
      "Connecting to www.tnt.uni-hannover.de (www.tnt.uni-hannover.de)|130.75.31.71|:443... connected.\r\n",
      "HTTP request sent, awaiting response... 200 OK\r\n",
      "Length: 248308697 (237M) [application/zip]\r\n",
      "Saving to: ‘models.zip.3’\r\n",
      "\r\n",
      "models.zip.3        100%[===================>] 236.80M   112MB/s    in 2.1s    \r\n",
      "\r\n",
      "2024-05-08 17:31:32 (112 MB/s) - ‘models.zip.3’ saved [248308697/248308697]\r\n",
      "\r\n"
     ]
    }
   ],
   "execution_count": 3
  },
  {
   "metadata": {},
   "cell_type": "markdown",
   "source": "",
   "id": "b94005aa53a05216"
  },
  {
   "metadata": {},
   "cell_type": "markdown",
   "source": "# Inference",
   "id": "6c2b141cc52522da"
  },
  {
   "metadata": {},
   "cell_type": "markdown",
   "source": "## 1) EmbedTrack with Aleatoric Uncertainty by Advanced Test-Time Augmentation",
   "id": "592e45c59cc837c1"
  },
  {
   "metadata": {
    "ExecuteTime": {
     "end_time": "2024-05-08T15:34:17.778273Z",
     "start_time": "2024-05-08T15:31:33.806916Z"
    }
   },
   "cell_type": "code",
   "source": [
    "import os\n",
    "from embedtrack.scripts.inference import process\n",
    "\n",
    "res_path = os.path.join(os.getcwd(), 'results/embedtrack')\n",
    "process(\n",
    "    train=True if SUBSET == 'train' else False,\n",
    "    challenge=True if SUBSET == 'challenge' else False,\n",
    "    dataset=DATASET,\n",
    "    sequence=SEQUENCE,\n",
    "    res_path=res_path,\n",
    "    shifts=SHIFTS,\n",
    "    multiscale=MULTISCALE,\n",
    "    multi_segmentation=MULTI_SEGMENTATION,\n",
    ")"
   ],
   "id": "1c62277e2e13ff56",
   "outputs": [
    {
     "name": "stdout",
     "output_type": "stream",
     "text": [
      "/home/kaiser/code_dev\n",
      "['/home/kaiser/code_dev/BiologicalNeeds/Data/train']\n",
      "Shifts: [0, 50]\n",
      "Multiscale: False\n",
      "Multisegmentation: False\n",
      "`model_dict` dictionary successfully created with: \n",
      " -- num of classes equal to [4, 1, 2], \n",
      " -- input channels equal to 1, \n",
      " -- name equal to 2d\n",
      "Creating branched erfnet with [4, 1, 2] classes\n",
      "Save tracking mask t083.tif\n",
      "Save tracking mask t082.tif\n",
      "Save tracking mask t081.tif\n",
      "Save tracking mask t080.tif\n",
      "Save tracking mask t079.tif\n",
      "Save tracking mask t078.tif\n",
      "Save tracking mask t077.tif\n",
      "Save tracking mask t076.tif\n",
      "Save tracking mask t075.tif\n",
      "Save tracking mask t074.tif\n",
      "Save tracking mask t073.tif\n",
      "Save tracking mask t072.tif\n",
      "Save tracking mask t071.tif\n",
      "Save tracking mask t070.tif\n",
      "Save tracking mask t069.tif\n",
      "Save tracking mask t068.tif\n",
      "Save tracking mask t067.tif\n",
      "Save tracking mask t066.tif\n",
      "Save tracking mask t065.tif\n",
      "Save tracking mask t064.tif\n",
      "Save tracking mask t063.tif\n",
      "Save tracking mask t062.tif\n",
      "Save tracking mask t061.tif\n",
      "Save tracking mask t060.tif\n",
      "Save tracking mask t059.tif\n",
      "Save tracking mask t058.tif\n",
      "Save tracking mask t057.tif\n",
      "Save tracking mask t056.tif\n",
      "Save tracking mask t055.tif\n",
      "Save tracking mask t054.tif\n",
      "Save tracking mask t053.tif\n",
      "Save tracking mask t052.tif\n",
      "Save tracking mask t051.tif\n",
      "Save tracking mask t050.tif\n",
      "Save tracking mask t049.tif\n",
      "Save tracking mask t048.tif\n",
      "Save tracking mask t047.tif\n",
      "Save tracking mask t046.tif\n",
      "Save tracking mask t045.tif\n",
      "Save tracking mask t044.tif\n",
      "Save tracking mask t043.tif\n",
      "Save tracking mask t042.tif\n",
      "Save tracking mask t041.tif\n",
      "Save tracking mask t040.tif\n",
      "Save tracking mask t039.tif\n",
      "Save tracking mask t038.tif\n",
      "Save tracking mask t037.tif\n",
      "Save tracking mask t036.tif\n",
      "Save tracking mask t035.tif\n",
      "Save tracking mask t034.tif\n",
      "Save tracking mask t033.tif\n",
      "Save tracking mask t032.tif\n",
      "Save tracking mask t031.tif\n",
      "Save tracking mask t030.tif\n",
      "Save tracking mask t029.tif\n",
      "Save tracking mask t028.tif\n",
      "Save tracking mask t027.tif\n",
      "Save tracking mask t026.tif\n",
      "Save tracking mask t025.tif\n",
      "Save tracking mask t024.tif\n",
      "Save tracking mask t023.tif\n",
      "Save tracking mask t022.tif\n",
      "Save tracking mask t021.tif\n",
      "Save tracking mask t020.tif\n",
      "Save tracking mask t019.tif\n",
      "Save tracking mask t018.tif\n",
      "Save tracking mask t017.tif\n",
      "Save tracking mask t016.tif\n",
      "Save tracking mask t015.tif\n",
      "Save tracking mask t014.tif\n",
      "Save tracking mask t013.tif\n",
      "Save tracking mask t012.tif\n",
      "Save tracking mask t011.tif\n",
      "Save tracking mask t010.tif\n",
      "Save tracking mask t009.tif\n",
      "Save tracking mask t008.tif\n",
      "Save tracking mask t007.tif\n",
      "Save tracking mask t006.tif\n",
      "Save tracking mask t005.tif\n",
      "Save tracking mask t004.tif\n",
      "Save tracking mask t003.tif\n",
      "Save tracking mask t002.tif\n",
      "Save tracking mask t001.tif\n",
      "Save tracking mask t000.tif\n",
      "Inference Time /home/kaiser/code_dev/BiologicalNeeds/results/embedtrack/train/DIC-C2DH-HeLa/01: 162.29550576210022s\n"
     ]
    }
   ],
   "execution_count": 4
  },
  {
   "metadata": {},
   "cell_type": "markdown",
   "source": "## 2) Multi Hypothesis Tracking",
   "id": "4c6488da24fbb407"
  },
  {
   "metadata": {
    "ExecuteTime": {
     "end_time": "2024-05-08T15:35:08.663375Z",
     "start_time": "2024-05-08T15:34:51.453333Z"
    }
   },
   "cell_type": "code",
   "source": [
    "from mht.scripts.inference import infer_all\n",
    "\n",
    "in_path = os.path.join(os.getcwd(), 'results/embedtrack')\n",
    "res_path = os.path.join(os.getcwd(), 'results/mht')\n",
    "\n",
    "infer_all(\n",
    "    data_root=in_path,\n",
    "    dest_root=res_path,\n",
    "    subset=SUBSET,\n",
    "    dataset=DATASET,\n",
    "    sequence=SEQUENCE,\n",
    "    tracker_args={},\n",
    ")"
   ],
   "id": "4d405b56d7a75c50",
   "outputs": [
    {
     "name": "stdout",
     "output_type": "stream",
     "text": [
      "Infer train DIC-C2DH-HeLa 01\n",
      "PMBM tracker parameters:\n",
      "    Debug mode: False\n",
      "    Multiprocessing: True\n",
      "    Mitosis extension: True\n",
      "    mitosis_min_length_a0: 80\n",
      "    max_number_of_hypotheses: 250\n",
      "    max_sampling_hypotheses: 3\n",
      "    gating_probability: 0.01\n",
      "    gating_distance: 10\n",
      "    min_sampling_increment: 0.01\n",
      "    min_object_probability: 0.1\n",
      "    use_kalman_filter: False\n",
      "    split_likelihood: 0.25\n",
      "    P_S: 0.9\n",
      "    P_B: 0.1\n",
      "    P_B_border: 0.35\n",
      "    system_uncertainty: 0.0\n",
      "    segmentation_errors: True\n",
      "(After Processing Frame 0) PMBMTracker(hypotheses=1, top_likelihood=1.0, branch_sw=0, processing_time=0:00:00, )\n",
      "(After Processing Frame 1) PMBMTracker(hypotheses=2, top_likelihood=0.9482545925622464, branch_sw=0, processing_time=0:00:00.016925, )\n",
      "(After Processing Frame 2) PMBMTracker(hypotheses=3, top_likelihood=0.9117965591039993, branch_sw=0, processing_time=0:00:00.056212, )\n",
      "(After Processing Frame 3) PMBMTracker(hypotheses=3, top_likelihood=0.9357051313536623, branch_sw=0, processing_time=0:00:00.099122, )\n",
      "(After Processing Frame 4) PMBMTracker(hypotheses=3, top_likelihood=0.9092023905385088, branch_sw=0, processing_time=0:00:00.155117, )\n",
      "(After Processing Frame 5) PMBMTracker(hypotheses=3, top_likelihood=0.9357359230647653, branch_sw=0, processing_time=0:00:00.239085, )\n",
      "(After Processing Frame 6) PMBMTracker(hypotheses=2, top_likelihood=0.9615307171042276, branch_sw=0, processing_time=0:00:00.291187, )\n",
      "(After Processing Frame 7) PMBMTracker(hypotheses=2, top_likelihood=0.959305876016937, branch_sw=0, processing_time=0:00:00.314110, )\n",
      "(After Processing Frame 8) PMBMTracker(hypotheses=2, top_likelihood=0.9662486927087425, branch_sw=0, processing_time=0:00:00.336637, )\n",
      "(After Processing Frame 9) PMBMTracker(hypotheses=2, top_likelihood=0.9624243453621859, branch_sw=0, processing_time=0:00:00.356785, )\n",
      "(After Processing Frame 10) PMBMTracker(hypotheses=2, top_likelihood=0.9688475834730794, branch_sw=0, processing_time=0:00:00.382420, )\n",
      "(After Processing Frame 11) PMBMTracker(hypotheses=2, top_likelihood=0.8332698363454064, branch_sw=0, processing_time=0:00:00.402128, )\n",
      "(After Processing Frame 12) PMBMTracker(hypotheses=3, top_likelihood=0.8411690858584107, branch_sw=0, processing_time=0:00:00.418977, )\n",
      "(After Processing Frame 13) PMBMTracker(hypotheses=3, top_likelihood=0.8405000587609361, branch_sw=0, processing_time=0:00:00.434571, )\n",
      "(After Processing Frame 14) PMBMTracker(hypotheses=4, top_likelihood=0.8111971032679836, branch_sw=0, processing_time=0:00:00.453593, )\n",
      "(After Processing Frame 15) PMBMTracker(hypotheses=4, top_likelihood=0.8016165908922179, branch_sw=0, processing_time=0:00:00.479373, )\n",
      "(After Processing Frame 16) PMBMTracker(hypotheses=4, top_likelihood=0.8123015525815592, branch_sw=0, processing_time=0:00:00.505926, )\n",
      "(After Processing Frame 17) PMBMTracker(hypotheses=4, top_likelihood=0.8139844815186187, branch_sw=0, processing_time=0:00:00.527280, )\n",
      "(After Processing Frame 18) PMBMTracker(hypotheses=4, top_likelihood=0.8201815430481674, branch_sw=0, processing_time=0:00:00.561569, )\n",
      "(After Processing Frame 19) PMBMTracker(hypotheses=4, top_likelihood=0.8020267650215656, branch_sw=0, processing_time=0:00:00.585112, )\n",
      "(After Processing Frame 20) PMBMTracker(hypotheses=4, top_likelihood=0.804397794260834, branch_sw=0, processing_time=0:00:00.607852, )\n",
      "(After Processing Frame 21) PMBMTracker(hypotheses=4, top_likelihood=0.8102962765688023, branch_sw=0, processing_time=0:00:00.633604, )\n",
      "(After Processing Frame 22) PMBMTracker(hypotheses=5, top_likelihood=0.645404138627983, branch_sw=0, processing_time=0:00:00.662094, )\n",
      "(After Processing Frame 23) PMBMTracker(hypotheses=7, top_likelihood=0.6567537912209682, branch_sw=0, processing_time=0:00:00.700597, )\n",
      "(After Processing Frame 24) PMBMTracker(hypotheses=7, top_likelihood=0.6559490687921747, branch_sw=0, processing_time=0:00:00.750706, )\n",
      "(After Processing Frame 25) PMBMTracker(hypotheses=7, top_likelihood=0.6598951451520423, branch_sw=0, processing_time=0:00:00.785836, )\n",
      "(After Processing Frame 26) PMBMTracker(hypotheses=7, top_likelihood=0.6560262752383883, branch_sw=0, processing_time=0:00:00.817783, )\n",
      "(After Processing Frame 27) PMBMTracker(hypotheses=7, top_likelihood=0.6534239955209886, branch_sw=0, processing_time=0:00:00.863544, )\n",
      "(After Processing Frame 28) PMBMTracker(hypotheses=7, top_likelihood=0.6512009301957871, branch_sw=0, processing_time=0:00:00.899455, )\n",
      "(After Processing Frame 29) PMBMTracker(hypotheses=7, top_likelihood=0.6472087113255248, branch_sw=0, processing_time=0:00:00.932681, )\n",
      "(After Processing Frame 30) PMBMTracker(hypotheses=9, top_likelihood=0.5700007120763037, branch_sw=0, processing_time=0:00:00.978567, )\n",
      "(After Processing Frame 31) PMBMTracker(hypotheses=11, top_likelihood=0.5713336072935394, branch_sw=0, processing_time=0:00:01.023273, )\n",
      "(After Processing Frame 32) PMBMTracker(hypotheses=13, top_likelihood=0.5629075361015001, branch_sw=0, processing_time=0:00:01.087170, )\n",
      "(After Processing Frame 33) PMBMTracker(hypotheses=13, top_likelihood=0.5668277033468573, branch_sw=0, processing_time=0:00:01.149427, )\n",
      "(After Processing Frame 34) PMBMTracker(hypotheses=12, top_likelihood=0.5776528815321107, branch_sw=0, processing_time=0:00:01.214994, )\n",
      "(After Processing Frame 35) PMBMTracker(hypotheses=11, top_likelihood=0.5830099208951988, branch_sw=0, processing_time=0:00:01.290279, )\n",
      "(After Processing Frame 36) PMBMTracker(hypotheses=16, top_likelihood=0.43892800198050613, branch_sw=0, processing_time=0:00:01.347320, )\n",
      "(After Processing Frame 37) PMBMTracker(hypotheses=20, top_likelihood=0.4463514111014845, branch_sw=0, processing_time=0:00:01.451157, )\n",
      "(After Processing Frame 38) PMBMTracker(hypotheses=23, top_likelihood=0.4433674588387788, branch_sw=0, processing_time=0:00:01.558335, )\n",
      "(After Processing Frame 39) PMBMTracker(hypotheses=23, top_likelihood=0.448620979974739, branch_sw=0, processing_time=0:00:01.686515, )\n",
      "(After Processing Frame 40) PMBMTracker(hypotheses=29, top_likelihood=0.3932574423794483, branch_sw=0, processing_time=0:00:01.826469, )\n",
      "(After Processing Frame 41) PMBMTracker(hypotheses=34, top_likelihood=0.4088552183051388, branch_sw=0, processing_time=0:00:02.001518, )\n",
      "(After Processing Frame 42) PMBMTracker(hypotheses=34, top_likelihood=0.4021903080249062, branch_sw=0, processing_time=0:00:02.188936, )\n",
      "(After Processing Frame 43) PMBMTracker(hypotheses=34, top_likelihood=0.39742509697959205, branch_sw=0, processing_time=0:00:02.335329, )\n",
      "(After Processing Frame 44) PMBMTracker(hypotheses=34, top_likelihood=0.398112952429842, branch_sw=0, processing_time=0:00:02.511718, )\n",
      "(After Processing Frame 45) PMBMTracker(hypotheses=22, top_likelihood=0.45040667896892495, branch_sw=0, processing_time=0:00:02.671952, )\n",
      "(After Processing Frame 46) PMBMTracker(hypotheses=21, top_likelihood=0.45464291126332074, branch_sw=0, processing_time=0:00:02.774069, )\n",
      "(After Processing Frame 47) PMBMTracker(hypotheses=22, top_likelihood=0.4488035626485904, branch_sw=0, processing_time=0:00:02.893033, )\n",
      "(After Processing Frame 48) PMBMTracker(hypotheses=25, top_likelihood=0.428298409696431, branch_sw=0, processing_time=0:00:02.994816, )\n",
      "(After Processing Frame 49) PMBMTracker(hypotheses=27, top_likelihood=0.4220875785948874, branch_sw=0, processing_time=0:00:03.112124, )\n",
      "(After Processing Frame 50) PMBMTracker(hypotheses=33, top_likelihood=0.33778466599050566, branch_sw=0, processing_time=0:00:03.246364, )\n",
      "(After Processing Frame 51) PMBMTracker(hypotheses=42, top_likelihood=0.30017102279915314, branch_sw=0, processing_time=0:00:03.390581, )\n",
      "(After Processing Frame 52) PMBMTracker(hypotheses=51, top_likelihood=0.2725218236703731, branch_sw=0, processing_time=0:00:03.569117, )\n",
      "(After Processing Frame 53) PMBMTracker(hypotheses=87, top_likelihood=0.10449456296181155, branch_sw=1, processing_time=0:00:03.819667, )\n",
      "(After Processing Frame 54) PMBMTracker(hypotheses=91, top_likelihood=0.15479876728244454, branch_sw=1, processing_time=0:00:04.132458, )\n",
      "(After Processing Frame 55) PMBMTracker(hypotheses=74, top_likelihood=0.18086560681991995, branch_sw=1, processing_time=0:00:04.416789, )\n",
      "(After Processing Frame 56) PMBMTracker(hypotheses=68, top_likelihood=0.19184176410678502, branch_sw=1, processing_time=0:00:04.646363, )\n",
      "(After Processing Frame 57) PMBMTracker(hypotheses=89, top_likelihood=0.14685087539918756, branch_sw=1, processing_time=0:00:04.876051, )\n",
      "(After Processing Frame 58) PMBMTracker(hypotheses=98, top_likelihood=0.14737552329947423, branch_sw=1, processing_time=0:00:05.223795, )\n",
      "(After Processing Frame 59) PMBMTracker(hypotheses=99, top_likelihood=0.15769659521410645, branch_sw=1, processing_time=0:00:05.540882, )\n",
      "(After Processing Frame 60) PMBMTracker(hypotheses=59, top_likelihood=0.18483950694309437, branch_sw=1, processing_time=0:00:05.860671, )\n",
      "(After Processing Frame 61) PMBMTracker(hypotheses=59, top_likelihood=0.19243908525639045, branch_sw=1, processing_time=0:00:06.130895, )\n",
      "(After Processing Frame 62) PMBMTracker(hypotheses=87, top_likelihood=0.15349359602974094, branch_sw=1, processing_time=0:00:06.460375, )\n",
      "(After Processing Frame 63) PMBMTracker(hypotheses=101, top_likelihood=0.155815341519513, branch_sw=1, processing_time=0:00:06.770008, )\n",
      "(After Processing Frame 64) PMBMTracker(hypotheses=157, top_likelihood=0.11033294658048837, branch_sw=1, processing_time=0:00:07.101165, )\n",
      "(After Processing Frame 65) PMBMTracker(hypotheses=173, top_likelihood=0.11211241486454747, branch_sw=1, processing_time=0:00:07.542497, )\n",
      "(After Processing Frame 66) PMBMTracker(hypotheses=196, top_likelihood=0.08327411631939172, branch_sw=1, processing_time=0:00:08.003948, )\n",
      "(After Processing Frame 67) PMBMTracker(hypotheses=189, top_likelihood=0.08591506791424029, branch_sw=1, processing_time=0:00:08.491724, )\n",
      "(After Processing Frame 68) PMBMTracker(hypotheses=179, top_likelihood=0.08695135736028729, branch_sw=1, processing_time=0:00:08.970012, )\n",
      "(After Processing Frame 69) PMBMTracker(hypotheses=202, top_likelihood=0.06603531853201347, branch_sw=1, processing_time=0:00:09.579005, )\n",
      "(After Processing Frame 70) PMBMTracker(hypotheses=196, top_likelihood=0.062175828089804694, branch_sw=1, processing_time=0:00:10.043776, )\n",
      "(After Processing Frame 71) PMBMTracker(hypotheses=175, top_likelihood=0.060874079800768095, branch_sw=1, processing_time=0:00:10.514015, )\n",
      "(After Processing Frame 72) PMBMTracker(hypotheses=186, top_likelihood=0.05440822555402085, branch_sw=1, processing_time=0:00:10.935832, )\n",
      "(After Processing Frame 73) PMBMTracker(hypotheses=177, top_likelihood=0.07983920946246925, branch_sw=1, processing_time=0:00:11.393877, )\n",
      "(After Processing Frame 74) PMBMTracker(hypotheses=207, top_likelihood=0.05381919331250382, branch_sw=1, processing_time=0:00:11.826544, )\n",
      "(After Processing Frame 75) PMBMTracker(hypotheses=208, top_likelihood=0.059942522966143184, branch_sw=1, processing_time=0:00:12.266098, )\n",
      "(After Processing Frame 76) PMBMTracker(hypotheses=213, top_likelihood=0.05214587239073773, branch_sw=1, processing_time=0:00:12.797864, )\n",
      "(After Processing Frame 77) PMBMTracker(hypotheses=214, top_likelihood=0.04439017988505326, branch_sw=1, processing_time=0:00:13.269293, )\n",
      "(After Processing Frame 78) PMBMTracker(hypotheses=215, top_likelihood=0.04514253954221098, branch_sw=1, processing_time=0:00:13.706744, )\n",
      "(After Processing Frame 79) PMBMTracker(hypotheses=213, top_likelihood=0.04510124804177473, branch_sw=1, processing_time=0:00:14.232158, )\n",
      "(After Processing Frame 80) PMBMTracker(hypotheses=216, top_likelihood=0.042804150764054825, branch_sw=1, processing_time=0:00:14.803665, )\n",
      "(After Processing Frame 81) PMBMTracker(hypotheses=209, top_likelihood=0.04574944473724619, branch_sw=1, processing_time=0:00:15.311075, )\n",
      "(After Processing Frame 82) PMBMTracker(hypotheses=217, top_likelihood=0.04093025107955681, branch_sw=1, processing_time=0:00:15.889808, )\n",
      "(After Processing Frame 83) PMBMTracker(hypotheses=194, top_likelihood=0.05094808315916188, branch_sw=1, processing_time=0:00:16.515693, )\n"
     ]
    },
    {
     "name": "stderr",
     "output_type": "stream",
     "text": [
      "Interpolating missing objects: 100%|██████████| 84/84 [00:00<00:00, 14164.82it/s]\n",
      "100%|██████████| 84/84 [00:00<00:00, 1673.57it/s]\n"
     ]
    }
   ],
   "execution_count": 6
  },
  {
   "metadata": {},
   "cell_type": "markdown",
   "source": "## 3) Interpolation to fill temporal gaps in trajectories",
   "id": "24a24931071715a"
  },
  {
   "metadata": {
    "ExecuteTime": {
     "end_time": "2024-05-08T15:35:28.788719Z",
     "start_time": "2024-05-08T15:35:28.402407Z"
    }
   },
   "cell_type": "code",
   "source": [
    "from utils.interpolate import postprocess_all\n",
    "\n",
    "in_path = os.path.join(os.getcwd(), 'results/mht')\n",
    "res_path = os.path.join(os.getcwd(), 'results/interpolated')\n",
    "\n",
    "postprocess_all(\n",
    "    data_root=in_path,\n",
    "    dest_root=res_path,\n",
    "    subset=SUBSET,\n",
    "    dataset=DATASET,\n",
    "    sequence=SEQUENCE,\n",
    ")"
   ],
   "id": "936156708b56ac7b",
   "outputs": [
    {
     "name": "stdout",
     "output_type": "stream",
     "text": [
      "Interpolate train DIC-C2DH-HeLa 01\n",
      "    Add mask at frame 39 with id 17\n",
      "    Add mask at frame 68 with id 21\n"
     ]
    }
   ],
   "execution_count": 7
  },
  {
   "metadata": {},
   "cell_type": "markdown",
   "source": "## 4) Postprocessing to satisfy the CTC requirements",
   "id": "71c90167ef5e8d"
  },
  {
   "metadata": {
    "ExecuteTime": {
     "end_time": "2024-05-08T15:35:36.759256Z",
     "start_time": "2024-05-08T15:35:35.564080Z"
    }
   },
   "cell_type": "code",
   "source": [
    "from utils.postprocess import postprocess_all\n",
    "\n",
    "res_path = os.path.join(os.getcwd(), 'results/interpolated')\n",
    "\n",
    "postprocess_all(\n",
    "    data_root=res_path,\n",
    "    subset=SUBSET,\n",
    "    dataset=DATASET,\n",
    "    sequence=SEQUENCE,\n",
    ")"
   ],
   "id": "fa904143fdb349b1",
   "outputs": [
    {
     "name": "stdout",
     "output_type": "stream",
     "text": [
      "Process train DIC-C2DH-HeLa 01\n"
     ]
    }
   ],
   "execution_count": 8
  }
 ],
 "metadata": {
  "kernelspec": {
   "display_name": "Python 3",
   "language": "python",
   "name": "python3"
  },
  "language_info": {
   "codemirror_mode": {
    "name": "ipython",
    "version": 2
   },
   "file_extension": ".py",
   "mimetype": "text/x-python",
   "name": "python",
   "nbconvert_exporter": "python",
   "pygments_lexer": "ipython2",
   "version": "2.7.6"
  }
 },
 "nbformat": 4,
 "nbformat_minor": 5
}
