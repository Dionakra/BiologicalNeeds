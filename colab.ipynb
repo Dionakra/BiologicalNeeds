{
 "cells": [
  {
   "metadata": {},
   "cell_type": "markdown",
   "source": [
    "\n",
    "<h1 align=\"center\">Cell Tracking according to Biological Needs</h1>\n",
    "<h2 align=\"center\">Strong Mitosis-aware Random-finite Sets Tracker with Aleatoric Uncertainty</h2>\n",
    "\n",
    "<p align=\"center\">\n",
    "  <img alt=\"Teaser Image\" src=\"./assets/framework.png\">\n",
    "  <br>\n",
    "    <em>The output distribution of EmbedTrack using different input transformations on BF-C2DL-HSC.</em>\n",
    "</p>"
   ],
   "id": "86d4d6103c2f5ea3"
  },
  {
   "metadata": {},
   "cell_type": "markdown",
   "source": "# Select the Dataset you want to process",
   "id": "8cea880763233996"
  },
  {
   "metadata": {
    "ExecuteTime": {
     "end_time": "2024-09-24T08:02:49.409440Z",
     "start_time": "2024-09-24T08:02:49.405382Z"
    }
   },
   "cell_type": "code",
   "source": [
    "# Select the dataset you want to process\n",
    "DATASET = 'DIC-C2DH-HeLa'\n",
    "SUBSET = 'train'\n",
    "SEQUENCE = '01'\n",
    "\n",
    "# Select some Inference Parameter\n",
    "SHIFTS = 50\n",
    "\n",
    "# Check if the selection is valid\n",
    "AVAILABLE_DATASETS = [\n",
    "    \"Fluo-N2DH-SIM+\",\n",
    "    \"Fluo-C2DL-MSC\",\n",
    "    \"Fluo-N2DH-GOWT1\",\n",
    "    \"PhC-C2DL-PSC\",\n",
    "    \"BF-C2DL-HSC\",\n",
    "    \"Fluo-N2DL-HeLa\",\n",
    "    \"BF-C2DL-MuSC\",\n",
    "    \"DIC-C2DH-HeLa\",\n",
    "    \"PhC-C2DH-U373\",\n",
    "]\n",
    "AVAILABLE_SUBSETS = ['train', 'challenge']\n",
    "AVAILABLE_SEQUENCES = ['01', '02']\n",
    "assert DATASET in AVAILABLE_DATASETS, f\"Invalid dataset: {DATASET}\"\n",
    "assert SUBSET in AVAILABLE_SUBSETS, f\"Invalid subset: {SUBSET}\"\n",
    "assert SEQUENCE in AVAILABLE_SEQUENCES, f\"Invalid sequence: {SEQUENCE}\""
   ],
   "id": "6752a7a36491af4f",
   "outputs": [],
   "execution_count": 2
  },
  {
   "metadata": {},
   "cell_type": "markdown",
   "source": [
    "# Setting up the environment\n",
    "\n",
    "Creating the environment\n",
    "  - downloading the CTC data\n",
    "  - downloading the pretrained models. "
   ],
   "id": "109df60057e8587b"
  },
  {
   "metadata": {
    "ExecuteTime": {
     "end_time": "2024-09-24T08:02:49.889891Z",
     "start_time": "2024-09-24T08:02:49.477830Z"
    }
   },
   "cell_type": "code",
   "source": [
    "# Download the data\n",
    "if SUBSET == 'train':\n",
    "    !python utils/prepare_data.py --datasets $DATASET --train\n",
    "else:\n",
    "    !python utils/prepare_data.py --datasets $DATASET --challenge"
   ],
   "id": "285cf3a26aa22316",
   "outputs": [
    {
     "name": "stdout",
     "output_type": "stream",
     "text": [
      "Downloading data set DIC-C2DH-HeLa ...\r\n"
     ]
    }
   ],
   "execution_count": 3
  },
  {
   "metadata": {
    "ExecuteTime": {
     "end_time": "2024-09-24T08:02:59.073485Z",
     "start_time": "2024-09-24T08:02:49.891253Z"
    }
   },
   "cell_type": "code",
   "source": [
    "# Download the pretrained models\n",
    "import zipfile\n",
    "\n",
    "!wget https://www.tnt.uni-hannover.de/de/project/MPT/data/BiologicalNeeds/models.zip\n",
    "with zipfile.ZipFile(\"models.zip\") as z:\n",
    "    z.extractall(\"\")"
   ],
   "id": "7b32aa7e108bef7d",
   "outputs": [
    {
     "name": "stdout",
     "output_type": "stream",
     "text": [
      "--2024-09-24 10:02:49--  https://www.tnt.uni-hannover.de/de/project/MPT/data/BiologicalNeeds/models.zip\r\n",
      "Resolving www.tnt.uni-hannover.de (www.tnt.uni-hannover.de)... 130.75.31.71\r\n",
      "Connecting to www.tnt.uni-hannover.de (www.tnt.uni-hannover.de)|130.75.31.71|:443... connected.\r\n",
      "HTTP request sent, awaiting response... 200 OK\r\n",
      "Length: 248308697 (237M) [application/zip]\r\n",
      "Saving to: ‘models.zip’\r\n",
      "\r\n",
      "models.zip          100%[===================>] 236.80M  61.9MB/s    in 3.8s    \r\n",
      "\r\n",
      "2024-09-24 10:02:54 (61.9 MB/s) - ‘models.zip’ saved [248308697/248308697]\r\n",
      "\r\n"
     ]
    }
   ],
   "execution_count": 4
  },
  {
   "metadata": {},
   "cell_type": "markdown",
   "source": "",
   "id": "b94005aa53a05216"
  },
  {
   "metadata": {},
   "cell_type": "markdown",
   "source": "# Inference",
   "id": "6c2b141cc52522da"
  },
  {
   "metadata": {},
   "cell_type": "markdown",
   "source": "",
   "id": "9072daedf6f85bc2"
  },
  {
   "metadata": {},
   "cell_type": "markdown",
   "source": "## 1) EmbedTrack with Aleatoric Uncertainty by Advanced Test-Time Augmentation",
   "id": "592e45c59cc837c1"
  },
  {
   "metadata": {
    "ExecuteTime": {
     "end_time": "2024-09-24T08:04:00.497099Z",
     "start_time": "2024-09-24T08:04:00.377798Z"
    }
   },
   "cell_type": "code",
   "source": [
    "import os\n",
    "from embedtrack.scripts.inference import process\n",
    "\n",
    "res_path = os.path.join(os.getcwd(), 'results/embedtrack')\n",
    "\n",
    "process(\n",
    "    model_dir=os.path.join(os.getcwd(), 'models'),\n",
    "    res_dir=[os.path.join(os.getcwd(), 'results')],\n",
    "    shifts=[0, SHIFTS],\n",
    "    multiscale=False,\n",
    "    multi_segmentation=False,\n",
    "    batch_size=32,\n",
    "    refine_segmentation=False,\n",
    "    raw_data_paths=[os.path.join(\"os.getcwd()\", \"Data\", \"train\")],\n",
    "    datasets=[DATASET],\n",
    "    sequences=[SEQUENCE],\n",
    ")"
   ],
   "id": "1c62277e2e13ff56",
   "outputs": [
    {
     "ename": "TypeError",
     "evalue": "process() got an unexpected keyword argument 'train'",
     "output_type": "error",
     "traceback": [
      "\u001B[0;31m---------------------------------------------------------------------------\u001B[0m",
      "\u001B[0;31mTypeError\u001B[0m                                 Traceback (most recent call last)",
      "Cell \u001B[0;32mIn[8], line 5\u001B[0m\n\u001B[1;32m      2\u001B[0m \u001B[38;5;28;01mfrom\u001B[39;00m \u001B[38;5;21;01membedtrack\u001B[39;00m\u001B[38;5;21;01m.\u001B[39;00m\u001B[38;5;21;01mscripts\u001B[39;00m\u001B[38;5;21;01m.\u001B[39;00m\u001B[38;5;21;01minference\u001B[39;00m \u001B[38;5;28;01mimport\u001B[39;00m process\n\u001B[1;32m      4\u001B[0m res_path \u001B[38;5;241m=\u001B[39m os\u001B[38;5;241m.\u001B[39mpath\u001B[38;5;241m.\u001B[39mjoin(os\u001B[38;5;241m.\u001B[39mgetcwd(), \u001B[38;5;124m'\u001B[39m\u001B[38;5;124mresults/embedtrack\u001B[39m\u001B[38;5;124m'\u001B[39m)\n\u001B[0;32m----> 5\u001B[0m \u001B[43mprocess\u001B[49m\u001B[43m(\u001B[49m\n\u001B[1;32m      6\u001B[0m \u001B[43m    \u001B[49m\u001B[43mtrain\u001B[49m\u001B[38;5;241;43m=\u001B[39;49m\u001B[38;5;28;43;01mTrue\u001B[39;49;00m\u001B[43m \u001B[49m\u001B[38;5;28;43;01mif\u001B[39;49;00m\u001B[43m \u001B[49m\u001B[43mSUBSET\u001B[49m\u001B[43m \u001B[49m\u001B[38;5;241;43m==\u001B[39;49m\u001B[43m \u001B[49m\u001B[38;5;124;43m'\u001B[39;49m\u001B[38;5;124;43mtrain\u001B[39;49m\u001B[38;5;124;43m'\u001B[39;49m\u001B[43m \u001B[49m\u001B[38;5;28;43;01melse\u001B[39;49;00m\u001B[43m \u001B[49m\u001B[38;5;28;43;01mFalse\u001B[39;49;00m\u001B[43m,\u001B[49m\n\u001B[1;32m      7\u001B[0m \u001B[43m    \u001B[49m\u001B[43mchallenge\u001B[49m\u001B[38;5;241;43m=\u001B[39;49m\u001B[38;5;28;43;01mTrue\u001B[39;49;00m\u001B[43m \u001B[49m\u001B[38;5;28;43;01mif\u001B[39;49;00m\u001B[43m \u001B[49m\u001B[43mSUBSET\u001B[49m\u001B[43m \u001B[49m\u001B[38;5;241;43m==\u001B[39;49m\u001B[43m \u001B[49m\u001B[38;5;124;43m'\u001B[39;49m\u001B[38;5;124;43mchallenge\u001B[39;49m\u001B[38;5;124;43m'\u001B[39;49m\u001B[43m \u001B[49m\u001B[38;5;28;43;01melse\u001B[39;49;00m\u001B[43m \u001B[49m\u001B[38;5;28;43;01mFalse\u001B[39;49;00m\u001B[43m,\u001B[49m\n\u001B[1;32m      8\u001B[0m \u001B[43m    \u001B[49m\u001B[43mdataset\u001B[49m\u001B[38;5;241;43m=\u001B[39;49m\u001B[43mDATASET\u001B[49m\u001B[43m,\u001B[49m\n\u001B[1;32m      9\u001B[0m \u001B[43m    \u001B[49m\u001B[43msequence\u001B[49m\u001B[38;5;241;43m=\u001B[39;49m\u001B[43mSEQUENCE\u001B[49m\u001B[43m,\u001B[49m\n\u001B[1;32m     10\u001B[0m \u001B[43m    \u001B[49m\u001B[43mres_path\u001B[49m\u001B[38;5;241;43m=\u001B[39;49m\u001B[43mres_path\u001B[49m\u001B[43m,\u001B[49m\n\u001B[1;32m     11\u001B[0m \u001B[43m    \u001B[49m\u001B[43mshifts\u001B[49m\u001B[38;5;241;43m=\u001B[39;49m\u001B[43mSHIFTS\u001B[49m\u001B[43m,\u001B[49m\n\u001B[1;32m     12\u001B[0m \u001B[43m    \u001B[49m\u001B[43mmultiscale\u001B[49m\u001B[38;5;241;43m=\u001B[39;49m\u001B[43mMULTISCALE\u001B[49m\u001B[43m,\u001B[49m\n\u001B[1;32m     13\u001B[0m \u001B[43m    \u001B[49m\u001B[43mmulti_segmentation\u001B[49m\u001B[38;5;241;43m=\u001B[39;49m\u001B[43mMULTI_SEGMENTATION\u001B[49m\u001B[43m,\u001B[49m\n\u001B[1;32m     14\u001B[0m \u001B[43m)\u001B[49m\n",
      "\u001B[0;31mTypeError\u001B[0m: process() got an unexpected keyword argument 'train'"
     ]
    }
   ],
   "execution_count": 8
  },
  {
   "metadata": {},
   "cell_type": "markdown",
   "source": "## 2) Multi Hypothesis Tracking",
   "id": "4c6488da24fbb407"
  },
  {
   "metadata": {
    "ExecuteTime": {
     "end_time": "2024-09-24T08:02:59.100687Z",
     "start_time": "2024-09-24T08:02:59.100591Z"
    }
   },
   "cell_type": "code",
   "source": [
    "from mht.scripts.inference import infer_all\n",
    "\n",
    "in_path = os.path.join(os.getcwd(), 'results/embedtrack')\n",
    "res_path = os.path.join(os.getcwd(), 'results/mht')\n",
    "\n",
    "infer_all(\n",
    "    data_root=in_path,\n",
    "    dest_root=res_path,\n",
    "    subset=SUBSET,\n",
    "    dataset=DATASET,\n",
    "    sequence=SEQUENCE,\n",
    "    tracker_args={},\n",
    ")"
   ],
   "id": "4d405b56d7a75c50",
   "outputs": [],
   "execution_count": null
  },
  {
   "metadata": {},
   "cell_type": "markdown",
   "source": "## 3) Interpolation to fill temporal gaps in trajectories",
   "id": "24a24931071715a"
  },
  {
   "metadata": {},
   "cell_type": "code",
   "source": [
    "from utils.interpolate import postprocess_all\n",
    "\n",
    "in_path = os.path.join(os.getcwd(), 'results/mht')\n",
    "res_path = os.path.join(os.getcwd(), 'results/interpolated')\n",
    "\n",
    "postprocess_all(\n",
    "    data_root=in_path,\n",
    "    dest_root=res_path,\n",
    "    subset=SUBSET,\n",
    "    dataset=DATASET,\n",
    "    sequence=SEQUENCE,\n",
    ")"
   ],
   "id": "936156708b56ac7b",
   "outputs": [],
   "execution_count": null
  },
  {
   "metadata": {},
   "cell_type": "markdown",
   "source": "## 4) Postprocessing to satisfy the CTC requirements",
   "id": "71c90167ef5e8d"
  },
  {
   "metadata": {},
   "cell_type": "code",
   "source": [
    "from utils.postprocess import postprocess_all\n",
    "\n",
    "res_path = os.path.join(os.getcwd(), 'results/interpolated')\n",
    "\n",
    "postprocess_all(\n",
    "    data_root=res_path,\n",
    "    subset=SUBSET,\n",
    "    dataset=DATASET,\n",
    "    sequence=SEQUENCE,\n",
    ")"
   ],
   "id": "fa904143fdb349b1",
   "outputs": [],
   "execution_count": null
  },
  {
   "metadata": {},
   "cell_type": "code",
   "source": "",
   "id": "d862af3f4e6f01b8",
   "outputs": [],
   "execution_count": null
  }
 ],
 "metadata": {
  "kernelspec": {
   "display_name": "Python 3",
   "language": "python",
   "name": "python3"
  },
  "language_info": {
   "codemirror_mode": {
    "name": "ipython",
    "version": 2
   },
   "file_extension": ".py",
   "mimetype": "text/x-python",
   "name": "python",
   "nbconvert_exporter": "python",
   "pygments_lexer": "ipython2",
   "version": "2.7.6"
  }
 },
 "nbformat": 4,
 "nbformat_minor": 5
}
