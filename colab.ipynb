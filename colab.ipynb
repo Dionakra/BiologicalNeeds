{
 "cells": [
  {
   "metadata": {},
   "cell_type": "markdown",
   "source": [
    "\n",
    "<h1 align=\"center\">Cell Tracking according to Biological Needs</h1>\n",
    "<h2 align=\"center\">Strong Mitosis-aware Random-finite Sets Tracker with Aleatoric Uncertainty</h2>\n",
    "\n",
    "<p align=\"center\">\n",
    "  <img alt=\"Teaser Image\" src=\"./assets/teaser.png\">\n",
    "  <br>\n",
    "    <em>The output distribution of EmbedTrack using different input transformations on BF-C2DL-HSC.</em>\n",
    "</p>"
   ],
   "id": "86d4d6103c2f5ea3"
  },
  {
   "metadata": {},
   "cell_type": "markdown",
   "source": "# Select the Dataset you want to process",
   "id": "8cea880763233996"
  },
  {
   "metadata": {
    "ExecuteTime": {
     "end_time": "2024-05-08T08:09:41.328807Z",
     "start_time": "2024-05-08T08:09:41.323001Z"
    }
   },
   "cell_type": "code",
   "source": [
    "# Select the dataset you want to process\n",
    "DATASET = 'DIC-C2DH-HeLa'\n",
    "SUBSET = 'train'\n",
    "SEQUENCE = '01'\n",
    "\n",
    "# Select some Inference Parameter\n",
    "SHIFTS = 50\n",
    "MULTISCALE = True\n",
    "MULTI_SEGMENTATION = True\n",
    "\n",
    "# Check if the selection is valid\n",
    "AVAILABLE_DATASETS = [\n",
    "    \"Fluo-N2DH-SIM+\",\n",
    "    \"Fluo-C2DL-MSC\",\n",
    "    \"Fluo-N2DH-GOWT1\",\n",
    "    \"PhC-C2DL-PSC\",\n",
    "    \"BF-C2DL-HSC\",\n",
    "    \"Fluo-N2DL-HeLa\",\n",
    "    \"BF-C2DL-MuSC\",\n",
    "    \"DIC-C2DH-HeLa\",\n",
    "    \"PhC-C2DH-U373\",\n",
    "]\n",
    "AVAILABLE_SUBSETS = ['train', 'challenge']\n",
    "AVAILABLE_SEQUENCES = ['01', '02']\n",
    "assert DATASET in AVAILABLE_DATASETS, f\"Invalid dataset: {DATASET}\"\n",
    "assert SUBSET in AVAILABLE_SUBSETS, f\"Invalid subset: {SUBSET}\"\n",
    "assert SEQUENCE in AVAILABLE_SEQUENCES, f\"Invalid sequence: {SEQUENCE}\""
   ],
   "id": "6752a7a36491af4f",
   "outputs": [],
   "execution_count": 1
  },
  {
   "metadata": {},
   "cell_type": "markdown",
   "source": [
    "# Setting up the environment\n",
    "\n",
    "Creating the environment\n",
    "  - cloning the code\n",
    "  - downloading the CTC data\n",
    "  - downloading the pretrained models. \n",
    "  \n",
    "By default, everything will NOT be stored in your personal Google Drive folder \n",
    "(**/content/drive/MyDrive'**).\n",
    "If you want to store the data in your drive, please uncomment the lines in the \n",
    "next cell of this notebook."
   ],
   "id": "109df60057e8587b"
  },
  {
   "metadata": {
    "ExecuteTime": {
     "end_time": "2024-05-08T08:09:41.619956Z",
     "start_time": "2024-05-08T08:09:41.332851Z"
    }
   },
   "cell_type": "code",
   "source": [
    "# The directory where the data will be stored\n",
    "import os\n",
    "prefix='colab_env'\n",
    "!mkdir -p $prefix\n",
    "\n",
    "# Uncomment this lines to store the data into your drive\n",
    "#from google.colab import drive\n",
    "#drive.mount('/content/drive')\n",
    "#prefix='/content/drive'\n",
    "\n",
    "os.chdir(prefix)"
   ],
   "id": "7c95cce382ed8ba2",
   "outputs": [],
   "execution_count": 2
  },
  {
   "metadata": {
    "ExecuteTime": {
     "end_time": "2024-05-08T08:09:42.261591Z",
     "start_time": "2024-05-08T08:09:41.623073Z"
    }
   },
   "cell_type": "code",
   "source": [
    "# Clear the directory\n",
    "!ls\n",
    "!rm -rf BiologicalNeeds"
   ],
   "id": "f84bb86f9b8eb122",
   "outputs": [
    {
     "name": "stdout",
     "output_type": "stream",
     "text": [
      "BiologicalNeeds\r\n"
     ]
    }
   ],
   "execution_count": 3
  },
  {
   "metadata": {
    "ExecuteTime": {
     "end_time": "2024-05-08T08:09:43.667436Z",
     "start_time": "2024-05-08T08:09:42.263687Z"
    }
   },
   "cell_type": "code",
   "source": [
    "# Clone the repository\n",
    "!git clone https://github.com/TimoK93/BiologicalNeeds\n",
    "os.chdir('BiologicalNeeds')"
   ],
   "id": "f82adf5b0bc4fdd6",
   "outputs": [
    {
     "name": "stdout",
     "output_type": "stream",
     "text": [
      "Cloning into 'BiologicalNeeds'...\r\n",
      "remote: Enumerating objects: 123, done.\u001B[K\r\n",
      "remote: Counting objects: 100% (123/123), done.\u001B[K\r\n",
      "remote: Compressing objects: 100% (66/66), done.\u001B[K\r\n",
      "remote: Total 123 (delta 62), reused 114 (delta 53), pack-reused 0\u001B[K\r\n",
      "Receiving objects: 100% (123/123), 255.56 KiB | 10.65 MiB/s, done.\r\n",
      "Resolving deltas: 100% (62/62), done.\r\n"
     ]
    }
   ],
   "execution_count": 4
  },
  {
   "metadata": {
    "ExecuteTime": {
     "end_time": "2024-05-08T08:09:45.555031Z",
     "start_time": "2024-05-08T08:09:43.672176Z"
    }
   },
   "cell_type": "code",
   "source": [
    "# Install the requirements\n",
    "!conda env create -f environment.yml\n",
    "!conda activate biological_needs"
   ],
   "id": "97554683a5fe04cb",
   "outputs": [
    {
     "name": "stdout",
     "output_type": "stream",
     "text": [
      "Warning: you have pip-installed dependencies in your environment file, but you do not list pip itself as one of your conda dependencies.  Conda may not use the correct pip to install your packages, and they may end up in the wrong place.  Please add an explicit pip dependency.  I'm adding one for you, but still nagging you.\r\n",
      "\r\n",
      "CondaValueError: prefix already exists: /home/timo/miniconda3/envs/biological_needs\r\n",
      "\r\n",
      "\r\n",
      "CondaError: Run 'conda init' before 'conda activate'\r\n",
      "\r\n"
     ]
    }
   ],
   "execution_count": 5
  },
  {
   "metadata": {
    "ExecuteTime": {
     "end_time": "2024-05-08T08:09:55.298075Z",
     "start_time": "2024-05-08T08:09:45.557243Z"
    }
   },
   "cell_type": "code",
   "source": [
    "# Download the data\n",
    "if SUBSET == 'train':\n",
    "    !python utils/prepare_data.py --datasets $DATASET --train\n",
    "else:\n",
    "    !python utils/prepare_data.py --datasets $DATASET --challenge"
   ],
   "id": "285cf3a26aa22316",
   "outputs": [
    {
     "name": "stdout",
     "output_type": "stream",
     "text": [
      "Downloading data set DIC-C2DH-HeLa ...\r\n",
      "Downloading training data set to /mnt/c/Users/kaiser/code/BiologicalNeeds/colab_env/BiologicalNeeds/Data/train/DIC-C2DH-HeLa ...\r\n",
      "    http://data.celltrackingchallenge.net/training-datasets/DIC-C2DH-HeLa.zip /mnt/c/Users/kaiser/code/BiologicalNeeds/colab_env/BiologicalNeeds/Data/train\r\n",
      "Unzip data set DIC-C2DH-HeLa.zip\r\n"
     ]
    }
   ],
   "execution_count": 6
  },
  {
   "metadata": {
    "ExecuteTime": {
     "end_time": "2024-05-08T08:12:24.857770Z",
     "start_time": "2024-05-08T08:12:15.016347Z"
    }
   },
   "cell_type": "code",
   "source": [
    "# Download the pretrained models\n",
    "import zipfile\n",
    "\n",
    "!wget https://www.tnt.uni-hannover.de/de/project/MPT/data/BiologicalNeeds/models.zip\n",
    "with zipfile.ZipFile(\"models.zip\") as z:\n",
    "    z.extractall(\"\")"
   ],
   "id": "7b32aa7e108bef7d",
   "outputs": [
    {
     "name": "stdout",
     "output_type": "stream",
     "text": [
      "--2024-05-08 10:12:15--  https://www.tnt.uni-hannover.de/de/project/MPT/data/BiologicalNeeds/models.zip\r\n",
      "Resolving www.tnt.uni-hannover.de (www.tnt.uni-hannover.de)... 130.75.31.71\r\n",
      "Connecting to www.tnt.uni-hannover.de (www.tnt.uni-hannover.de)|130.75.31.71|:443... connected.\r\n",
      "HTTP request sent, awaiting response... 200 OK\r\n",
      "Length: 248308697 (237M) [application/zip]\r\n",
      "Saving to: ‘models.zip.1’\r\n",
      "\r\n",
      "models.zip.1        100%[===================>] 236.80M  31.8MB/s    in 7.6s    \r\n",
      "\r\n",
      "2024-05-08 10:12:22 (31.2 MB/s) - ‘models.zip.1’ saved [248308697/248308697]\r\n",
      "\r\n",
      "/bin/bash: unzip: command not found\r\n"
     ]
    }
   ],
   "execution_count": 9
  },
  {
   "metadata": {},
   "cell_type": "markdown",
   "source": "",
   "id": "b94005aa53a05216"
  },
  {
   "metadata": {},
   "cell_type": "markdown",
   "source": "# Inference",
   "id": "6c2b141cc52522da"
  },
  {
   "metadata": {},
   "cell_type": "markdown",
   "source": "## 1) EmbedTrack with Aleatoric Uncertainty by Advanced Test-Time Augmentation",
   "id": "592e45c59cc837c1"
  },
  {
   "metadata": {
    "ExecuteTime": {
     "end_time": "2024-05-08T08:09:55.311300Z",
     "start_time": "2024-05-08T08:09:55.308798Z"
    }
   },
   "cell_type": "code",
   "source": [
    "from embedtrack.scripts.inference import process\n",
    "\n",
    "res_path = os.path.join(os.getcwd(), 'results/embedtrack')\n",
    "process(\n",
    "    train=True if SUBSET == 'train' else False,\n",
    "    challenge=True if SUBSET == 'challenge' else False,\n",
    "    dataset=DATASET,\n",
    "    sequence=SEQUENCE,\n",
    "    res_path=res_path,\n",
    "    shifts=SHIFTS,\n",
    "    multiscale=MULTISCALE,\n",
    "    multi_segmentation=MULTI_SEGMENTATION,\n",
    ")"
   ],
   "id": "1c62277e2e13ff56",
   "outputs": [],
   "execution_count": 7
  },
  {
   "metadata": {},
   "cell_type": "markdown",
   "source": "## 2) Multi Hypothesis Tracking",
   "id": "4c6488da24fbb407"
  },
  {
   "metadata": {},
   "cell_type": "code",
   "outputs": [],
   "execution_count": null,
   "source": [
    "from mht.scripts.inference import infer_all\n",
    "\n",
    "in_path = os.path.join(os.getcwd(), 'results/embedtrack')\n",
    "res_path = os.path.join(os.getcwd(), 'results/mht')\n",
    "\n",
    "infer_all(\n",
    "    data_root=in_path,\n",
    "    dest_root=res_path,\n",
    "    subset=SUBSET,\n",
    "    dataset=DATASET,\n",
    "    sequence=SEQUENCE,\n",
    "    tracker_args={},\n",
    ")"
   ],
   "id": "4d405b56d7a75c50"
  },
  {
   "metadata": {},
   "cell_type": "markdown",
   "source": "## 3) Interpolation to fill temporal gaps in trajectories",
   "id": "24a24931071715a"
  },
  {
   "metadata": {},
   "cell_type": "code",
   "outputs": [],
   "execution_count": null,
   "source": [
    "from utils.interpolate import postprocess_all\n",
    "\n",
    "in_path = os.path.join(os.getcwd(), 'results/mht')\n",
    "res_path = os.path.join(os.getcwd(), 'results/interpolated')\n",
    "\n",
    "postprocess_all(\n",
    "    data_root=in_path,\n",
    "    dest_root=res_path,\n",
    "    subset=SUBSET,\n",
    "    dataset=DATASET,\n",
    "    sequence=SEQUENCE,\n",
    ")"
   ],
   "id": "936156708b56ac7b"
  },
  {
   "metadata": {},
   "cell_type": "markdown",
   "source": "## 4) Postprocessing to satisfy the CTC requirements",
   "id": "71c90167ef5e8d"
  },
  {
   "metadata": {},
   "cell_type": "code",
   "outputs": [],
   "execution_count": null,
   "source": [
    "from utils.postprocess import postprocess_all\n",
    "\n",
    "res_path = os.path.join(os.getcwd(), 'results/interpolated')\n",
    "\n",
    "postprocess_all(\n",
    "    data_root=res_path,\n",
    "    subset=SUBSET,\n",
    "    dataset=DATASET,\n",
    "    sequence=SEQUENCE,\n",
    ")"
   ],
   "id": "fa904143fdb349b1"
  }
 ],
 "metadata": {
  "kernelspec": {
   "display_name": "Python 3",
   "language": "python",
   "name": "python3"
  },
  "language_info": {
   "codemirror_mode": {
    "name": "ipython",
    "version": 2
   },
   "file_extension": ".py",
   "mimetype": "text/x-python",
   "name": "python",
   "nbconvert_exporter": "python",
   "pygments_lexer": "ipython2",
   "version": "2.7.6"
  }
 },
 "nbformat": 4,
 "nbformat_minor": 5
}
