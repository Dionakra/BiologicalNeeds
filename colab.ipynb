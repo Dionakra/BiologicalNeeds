{
 "cells": [
  {
   "metadata": {},
   "cell_type": "markdown",
   "source": [
    "\n",
    "<h1 align=\"center\">Cell Tracking according to Biological Needs</h1>\n",
    "<h2 align=\"center\">Strong Mitosis-aware Random-finite Sets Tracker with Aleatoric Uncertainty</h2>\n",
    "\n",
    "<p align=\"center\">\n",
    "  <img alt=\"Teaser Image\" src=\"./assets/framework.png\">\n",
    "  <br>\n",
    "    <em>The output distribution of EmbedTrack using different input transformations on BF-C2DL-HSC.</em>\n",
    "</p>"
   ],
   "id": "86d4d6103c2f5ea3"
  },
  {
   "metadata": {},
   "cell_type": "markdown",
   "source": "# Select the Dataset you want to process",
   "id": "8cea880763233996"
  },
  {
   "metadata": {
    "ExecuteTime": {
     "end_time": "2024-05-08T15:31:30.179522Z",
     "start_time": "2024-05-08T15:31:30.174699Z"
    }
   },
   "cell_type": "code",
   "source": [
    "# Select the dataset you want to process\n",
    "DATASET = 'DIC-C2DH-HeLa'\n",
    "SUBSET = 'train'\n",
    "SEQUENCE = '01'\n",
    "\n",
    "# Select some Inference Parameter\n",
    "SHIFTS = 50\n",
    "\n",
    "# Check if the selection is valid\n",
    "AVAILABLE_DATASETS = [\n",
    "    \"Fluo-N2DH-SIM+\",\n",
    "    \"Fluo-C2DL-MSC\",\n",
    "    \"Fluo-N2DH-GOWT1\",\n",
    "    \"PhC-C2DL-PSC\",\n",
    "    \"BF-C2DL-HSC\",\n",
    "    \"Fluo-N2DL-HeLa\",\n",
    "    \"BF-C2DL-MuSC\",\n",
    "    \"DIC-C2DH-HeLa\",\n",
    "    \"PhC-C2DH-U373\",\n",
    "]\n",
    "AVAILABLE_SUBSETS = ['train', 'challenge']\n",
    "AVAILABLE_SEQUENCES = ['01', '02']\n",
    "assert DATASET in AVAILABLE_DATASETS, f\"Invalid dataset: {DATASET}\"\n",
    "assert SUBSET in AVAILABLE_SUBSETS, f\"Invalid subset: {SUBSET}\"\n",
    "assert SEQUENCE in AVAILABLE_SEQUENCES, f\"Invalid sequence: {SEQUENCE}\""
   ],
   "id": "6752a7a36491af4f",
   "execution_count": 1,
   "outputs": []
  },
  {
   "metadata": {},
   "cell_type": "markdown",
   "source": [
    "# Setting up the environment\n",
    "\n",
    "Creating the environment\n",
    "  - downloading the CTC data\n",
    "  - downloading the pretrained models. "
   ],
   "id": "109df60057e8587b"
  },
  {
   "metadata": {
    "ExecuteTime": {
     "end_time": "2024-05-08T15:31:30.408524Z",
     "start_time": "2024-05-08T15:31:30.180664Z"
    }
   },
   "cell_type": "code",
   "source": [
    "# Download the data\n",
    "if SUBSET == 'train':\n",
    "    !python utils/prepare_data.py --datasets $DATASET --train\n",
    "else:\n",
    "    !python utils/prepare_data.py --datasets $DATASET --challenge"
   ],
   "id": "285cf3a26aa22316",
   "execution_count": 2,
   "outputs": []
  },
  {
   "metadata": {
    "ExecuteTime": {
     "end_time": "2024-05-08T15:31:33.806002Z",
     "start_time": "2024-05-08T15:31:30.414004Z"
    }
   },
   "cell_type": "code",
   "source": [
    "# Download the pretrained models\n",
    "import zipfile\n",
    "\n",
    "!wget https://www.tnt.uni-hannover.de/de/project/MPT/data/BiologicalNeeds/models.zip\n",
    "with zipfile.ZipFile(\"models.zip\") as z:\n",
    "    z.extractall(\"\")"
   ],
   "id": "7b32aa7e108bef7d",
   "execution_count": 3,
   "outputs": []
  },
  {
   "metadata": {},
   "cell_type": "markdown",
   "source": "",
   "id": "b94005aa53a05216"
  },
  {
   "metadata": {},
   "cell_type": "markdown",
   "source": "# Inference",
   "id": "6c2b141cc52522da"
  },
  {
   "metadata": {},
   "cell_type": "markdown",
   "source": "## 1) EmbedTrack with Aleatoric Uncertainty by Advanced Test-Time Augmentation",
   "id": "592e45c59cc837c1"
  },
  {
   "metadata": {
    "ExecuteTime": {
     "end_time": "2024-05-08T15:34:17.778273Z",
     "start_time": "2024-05-08T15:31:33.806916Z"
    }
   },
   "cell_type": "code",
   "source": [
    "import os\n",
    "from embedtrack.scripts.inference import process\n",
    "\n",
    "res_path = os.path.join(os.getcwd(), 'results/embedtrack')\n",
    "\n",
    "process(\n",
    "    model_dir=os.path.join(os.getcwd(), 'models'),\n",
    "    res_dir=[os.path.join(os.getcwd(), 'results')],\n",
    "    shifts=[0, SHIFTS],\n",
    "    multiscale=False,\n",
    "    multi_segmentation=False,\n",
    "    batch_size=32,\n",
    "    refine_segmentation=False,\n",
    "    raw_data_paths=[os.path.join(\"os.getcwd()\", \"Data\", \"train\")],\n",
    "    datasets=[DATASET],\n",
    "    sequences=[SEQUENCE],\n",
    ")"
   ],
   "id": "1c62277e2e13ff56",
   "execution_count": 4,
   "outputs": []
  },
  {
   "metadata": {},
   "cell_type": "markdown",
   "source": "## 2) Multi Hypothesis Tracking",
   "id": "4c6488da24fbb407"
  },
  {
   "metadata": {
    "ExecuteTime": {
     "end_time": "2024-05-08T15:35:08.663375Z",
     "start_time": "2024-05-08T15:34:51.453333Z"
    }
   },
   "cell_type": "code",
   "source": [
    "from mht.scripts.inference import infer_all\n",
    "\n",
    "in_path = os.path.join(os.getcwd(), 'results/embedtrack')\n",
    "res_path = os.path.join(os.getcwd(), 'results/mht')\n",
    "\n",
    "infer_all(\n",
    "    data_root=in_path,\n",
    "    dest_root=res_path,\n",
    "    subset=SUBSET,\n",
    "    dataset=DATASET,\n",
    "    sequence=SEQUENCE,\n",
    "    tracker_args={},\n",
    ")"
   ],
   "id": "4d405b56d7a75c50",
   "execution_count": 6,
   "outputs": []
  },
  {
   "metadata": {},
   "cell_type": "markdown",
   "source": "## 3) Interpolation to fill temporal gaps in trajectories",
   "id": "24a24931071715a"
  },
  {
   "metadata": {
    "ExecuteTime": {
     "end_time": "2024-05-08T15:35:28.788719Z",
     "start_time": "2024-05-08T15:35:28.402407Z"
    }
   },
   "cell_type": "code",
   "source": [
    "from utils.interpolate import postprocess_all\n",
    "\n",
    "in_path = os.path.join(os.getcwd(), 'results/mht')\n",
    "res_path = os.path.join(os.getcwd(), 'results/interpolated')\n",
    "\n",
    "postprocess_all(\n",
    "    data_root=in_path,\n",
    "    dest_root=res_path,\n",
    "    subset=SUBSET,\n",
    "    dataset=DATASET,\n",
    "    sequence=SEQUENCE,\n",
    ")"
   ],
   "id": "936156708b56ac7b",
   "execution_count": 7,
   "outputs": []
  },
  {
   "metadata": {},
   "cell_type": "markdown",
   "source": "## 4) Postprocessing to satisfy the CTC requirements",
   "id": "71c90167ef5e8d"
  },
  {
   "metadata": {
    "ExecuteTime": {
     "end_time": "2024-05-08T15:35:36.759256Z",
     "start_time": "2024-05-08T15:35:35.564080Z"
    }
   },
   "cell_type": "code",
   "source": [
    "from utils.postprocess import postprocess_all\n",
    "\n",
    "res_path = os.path.join(os.getcwd(), 'results/interpolated')\n",
    "\n",
    "postprocess_all(\n",
    "    data_root=res_path,\n",
    "    subset=SUBSET,\n",
    "    dataset=DATASET,\n",
    "    sequence=SEQUENCE,\n",
    ")"
   ],
   "id": "fa904143fdb349b1",
   "execution_count": 8,
   "outputs": []
  }
 ],
 "metadata": {
  "kernelspec": {
   "display_name": "Python 3",
   "language": "python",
   "name": "python3"
  },
  "language_info": {
   "codemirror_mode": {
    "name": "ipython",
    "version": 2
   },
   "file_extension": ".py",
   "mimetype": "text/x-python",
   "name": "python",
   "nbconvert_exporter": "python",
   "pygments_lexer": "ipython2",
   "version": "2.7.6"
  }
 },
 "nbformat": 4,
 "nbformat_minor": 5
}
